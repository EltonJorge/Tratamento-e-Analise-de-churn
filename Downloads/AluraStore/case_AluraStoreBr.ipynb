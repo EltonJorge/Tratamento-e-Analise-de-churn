{
 "cells": [
  {
   "cell_type": "markdown",
   "metadata": {
    "id": "3jQdqy0ZV3WI"
   },
   "source": [
    "### Bibliotecas"
   ]
  },
  {
   "cell_type": "code",
   "execution_count": 1,
   "metadata": {
    "id": "N3-knP5YWADS"
   },
   "outputs": [],
   "source": [
    "import pandas as pd\n",
    "import matplotlib.pyplot as plt\n",
    "\n"
   ]
  },
  {
   "cell_type": "markdown",
   "metadata": {
    "id": "RhEdWd9YUR6H"
   },
   "source": [
    "###Importação dos dados\n",
    "\n"
   ]
  },
  {
   "cell_type": "code",
   "execution_count": 2,
   "metadata": {
    "colab": {
     "base_uri": "https://localhost:8080/",
     "height": 626
    },
    "id": "T3EvaeQ_INIL",
    "outputId": "fb079bd2-2962-4443-c97f-cfdad4e4d644"
   },
   "outputs": [
    {
     "data": {
      "text/html": [
       "<div>\n",
       "<style scoped>\n",
       "    .dataframe tbody tr th:only-of-type {\n",
       "        vertical-align: middle;\n",
       "    }\n",
       "\n",
       "    .dataframe tbody tr th {\n",
       "        vertical-align: top;\n",
       "    }\n",
       "\n",
       "    .dataframe thead th {\n",
       "        text-align: right;\n",
       "    }\n",
       "</style>\n",
       "<table border=\"1\" class=\"dataframe\">\n",
       "  <thead>\n",
       "    <tr style=\"text-align: right;\">\n",
       "      <th></th>\n",
       "      <th>Produto</th>\n",
       "      <th>Categoria do Produto</th>\n",
       "      <th>Preço</th>\n",
       "      <th>Frete</th>\n",
       "      <th>Data da Compra</th>\n",
       "      <th>Vendedor</th>\n",
       "      <th>Local da compra</th>\n",
       "      <th>Avaliação da compra</th>\n",
       "      <th>Tipo de pagamento</th>\n",
       "      <th>Quantidade de parcelas</th>\n",
       "      <th>lat</th>\n",
       "      <th>lon</th>\n",
       "    </tr>\n",
       "  </thead>\n",
       "  <tbody>\n",
       "    <tr>\n",
       "      <th>0</th>\n",
       "      <td>Assistente virtual</td>\n",
       "      <td>eletronicos</td>\n",
       "      <td>219.08</td>\n",
       "      <td>9.249790</td>\n",
       "      <td>16/01/2021</td>\n",
       "      <td>Pedro Gomes</td>\n",
       "      <td>SP</td>\n",
       "      <td>4</td>\n",
       "      <td>cartao_credito</td>\n",
       "      <td>8</td>\n",
       "      <td>-22.19</td>\n",
       "      <td>-48.79</td>\n",
       "    </tr>\n",
       "    <tr>\n",
       "      <th>1</th>\n",
       "      <td>Mesa de jantar</td>\n",
       "      <td>moveis</td>\n",
       "      <td>256.35</td>\n",
       "      <td>11.234305</td>\n",
       "      <td>18/05/2022</td>\n",
       "      <td>Beatriz Moraes</td>\n",
       "      <td>RJ</td>\n",
       "      <td>1</td>\n",
       "      <td>cartao_credito</td>\n",
       "      <td>4</td>\n",
       "      <td>-22.25</td>\n",
       "      <td>-42.66</td>\n",
       "    </tr>\n",
       "    <tr>\n",
       "      <th>2</th>\n",
       "      <td>Jogo de tabuleiro</td>\n",
       "      <td>brinquedos</td>\n",
       "      <td>279.51</td>\n",
       "      <td>21.262681</td>\n",
       "      <td>15/03/2021</td>\n",
       "      <td>João Souza</td>\n",
       "      <td>DF</td>\n",
       "      <td>1</td>\n",
       "      <td>cartao_credito</td>\n",
       "      <td>1</td>\n",
       "      <td>-15.83</td>\n",
       "      <td>-47.86</td>\n",
       "    </tr>\n",
       "    <tr>\n",
       "      <th>3</th>\n",
       "      <td>Micro-ondas</td>\n",
       "      <td>eletrodomesticos</td>\n",
       "      <td>1009.99</td>\n",
       "      <td>54.667344</td>\n",
       "      <td>03/05/2022</td>\n",
       "      <td>João Souza</td>\n",
       "      <td>RS</td>\n",
       "      <td>4</td>\n",
       "      <td>boleto</td>\n",
       "      <td>1</td>\n",
       "      <td>-30.17</td>\n",
       "      <td>-53.50</td>\n",
       "    </tr>\n",
       "    <tr>\n",
       "      <th>4</th>\n",
       "      <td>Cadeira de escritório</td>\n",
       "      <td>moveis</td>\n",
       "      <td>446.99</td>\n",
       "      <td>26.964689</td>\n",
       "      <td>07/11/2020</td>\n",
       "      <td>Larissa Alves</td>\n",
       "      <td>MG</td>\n",
       "      <td>5</td>\n",
       "      <td>boleto</td>\n",
       "      <td>1</td>\n",
       "      <td>-18.10</td>\n",
       "      <td>-44.38</td>\n",
       "    </tr>\n",
       "  </tbody>\n",
       "</table>\n",
       "</div>"
      ],
      "text/plain": [
       "                 Produto Categoria do Produto    Preço      Frete  \\\n",
       "0     Assistente virtual          eletronicos   219.08   9.249790   \n",
       "1         Mesa de jantar               moveis   256.35  11.234305   \n",
       "2      Jogo de tabuleiro           brinquedos   279.51  21.262681   \n",
       "3            Micro-ondas     eletrodomesticos  1009.99  54.667344   \n",
       "4  Cadeira de escritório               moveis   446.99  26.964689   \n",
       "\n",
       "  Data da Compra        Vendedor Local da compra  Avaliação da compra  \\\n",
       "0     16/01/2021     Pedro Gomes              SP                    4   \n",
       "1     18/05/2022  Beatriz Moraes              RJ                    1   \n",
       "2     15/03/2021      João Souza              DF                    1   \n",
       "3     03/05/2022      João Souza              RS                    4   \n",
       "4     07/11/2020   Larissa Alves              MG                    5   \n",
       "\n",
       "  Tipo de pagamento  Quantidade de parcelas    lat    lon  \n",
       "0    cartao_credito                       8 -22.19 -48.79  \n",
       "1    cartao_credito                       4 -22.25 -42.66  \n",
       "2    cartao_credito                       1 -15.83 -47.86  \n",
       "3            boleto                       1 -30.17 -53.50  \n",
       "4            boleto                       1 -18.10 -44.38  "
      ]
     },
     "execution_count": 2,
     "metadata": {},
     "output_type": "execute_result"
    }
   ],
   "source": [
    "\n",
    "\n",
    "url = \"https://raw.githubusercontent.com/alura-es-cursos/challenge1-data-science/refs/heads/main/base-de-dados-challenge-1/loja_1.csv\"\n",
    "url2 = \"https://raw.githubusercontent.com/alura-es-cursos/challenge1-data-science/refs/heads/main/base-de-dados-challenge-1/loja_2.csv\"\n",
    "url3 = \"https://raw.githubusercontent.com/alura-es-cursos/challenge1-data-science/refs/heads/main/base-de-dados-challenge-1/loja_3.csv\"\n",
    "url4 = \"https://raw.githubusercontent.com/alura-es-cursos/challenge1-data-science/refs/heads/main/base-de-dados-challenge-1/loja_4.csv\"\n",
    "\n",
    "loja = pd.read_csv(url)\n",
    "loja2 = pd.read_csv(url2)\n",
    "loja3 = pd.read_csv(url3)\n",
    "loja4 = pd.read_csv(url4)\n",
    "\n",
    "loja.head()"
   ]
  },
  {
   "cell_type": "code",
   "execution_count": 3,
   "metadata": {
    "colab": {
     "base_uri": "https://localhost:8080/",
     "height": 661
    },
    "id": "E2Z1fWCmWVte",
    "outputId": "4b86dd1c-4171-4e17-ff59-10b56aa16828"
   },
   "outputs": [
    {
     "data": {
      "text/html": [
       "<div>\n",
       "<style scoped>\n",
       "    .dataframe tbody tr th:only-of-type {\n",
       "        vertical-align: middle;\n",
       "    }\n",
       "\n",
       "    .dataframe tbody tr th {\n",
       "        vertical-align: top;\n",
       "    }\n",
       "\n",
       "    .dataframe thead th {\n",
       "        text-align: right;\n",
       "    }\n",
       "</style>\n",
       "<table border=\"1\" class=\"dataframe\">\n",
       "  <thead>\n",
       "    <tr style=\"text-align: right;\">\n",
       "      <th></th>\n",
       "      <th>Produto</th>\n",
       "      <th>Categoria do Produto</th>\n",
       "      <th>Preço</th>\n",
       "      <th>Frete</th>\n",
       "      <th>Data da Compra</th>\n",
       "      <th>Vendedor</th>\n",
       "      <th>Local da compra</th>\n",
       "      <th>Avaliação da compra</th>\n",
       "      <th>Tipo de pagamento</th>\n",
       "      <th>Quantidade de parcelas</th>\n",
       "      <th>lat</th>\n",
       "      <th>lon</th>\n",
       "    </tr>\n",
       "  </thead>\n",
       "  <tbody>\n",
       "    <tr>\n",
       "      <th>0</th>\n",
       "      <td>Cadeira de escritório</td>\n",
       "      <td>moveis</td>\n",
       "      <td>378.20</td>\n",
       "      <td>20.421138</td>\n",
       "      <td>04/08/2021</td>\n",
       "      <td>Thiago Silva</td>\n",
       "      <td>MG</td>\n",
       "      <td>1</td>\n",
       "      <td>boleto</td>\n",
       "      <td>1</td>\n",
       "      <td>-18.10</td>\n",
       "      <td>-44.38</td>\n",
       "    </tr>\n",
       "    <tr>\n",
       "      <th>1</th>\n",
       "      <td>Pandeiro</td>\n",
       "      <td>instrumentos musicais</td>\n",
       "      <td>102.37</td>\n",
       "      <td>3.035334</td>\n",
       "      <td>26/11/2020</td>\n",
       "      <td>Bianca Santos</td>\n",
       "      <td>RJ</td>\n",
       "      <td>3</td>\n",
       "      <td>cartao_credito</td>\n",
       "      <td>4</td>\n",
       "      <td>-22.25</td>\n",
       "      <td>-42.66</td>\n",
       "    </tr>\n",
       "    <tr>\n",
       "      <th>2</th>\n",
       "      <td>Cama king</td>\n",
       "      <td>moveis</td>\n",
       "      <td>591.13</td>\n",
       "      <td>31.759020</td>\n",
       "      <td>22/10/2021</td>\n",
       "      <td>Thiago Silva</td>\n",
       "      <td>SC</td>\n",
       "      <td>5</td>\n",
       "      <td>cartao_credito</td>\n",
       "      <td>10</td>\n",
       "      <td>-27.45</td>\n",
       "      <td>-50.95</td>\n",
       "    </tr>\n",
       "    <tr>\n",
       "      <th>3</th>\n",
       "      <td>Cama king</td>\n",
       "      <td>moveis</td>\n",
       "      <td>1208.24</td>\n",
       "      <td>61.919584</td>\n",
       "      <td>04/05/2022</td>\n",
       "      <td>Larissa Alves</td>\n",
       "      <td>RS</td>\n",
       "      <td>5</td>\n",
       "      <td>cartao_credito</td>\n",
       "      <td>10</td>\n",
       "      <td>-30.17</td>\n",
       "      <td>-53.50</td>\n",
       "    </tr>\n",
       "    <tr>\n",
       "      <th>4</th>\n",
       "      <td>Cadeira de escritório</td>\n",
       "      <td>moveis</td>\n",
       "      <td>530.41</td>\n",
       "      <td>25.827176</td>\n",
       "      <td>26/02/2022</td>\n",
       "      <td>Lucas Oliveira</td>\n",
       "      <td>SP</td>\n",
       "      <td>4</td>\n",
       "      <td>cartao_credito</td>\n",
       "      <td>3</td>\n",
       "      <td>-22.19</td>\n",
       "      <td>-48.79</td>\n",
       "    </tr>\n",
       "  </tbody>\n",
       "</table>\n",
       "</div>"
      ],
      "text/plain": [
       "                 Produto   Categoria do Produto    Preço      Frete  \\\n",
       "0  Cadeira de escritório                 moveis   378.20  20.421138   \n",
       "1               Pandeiro  instrumentos musicais   102.37   3.035334   \n",
       "2              Cama king                 moveis   591.13  31.759020   \n",
       "3              Cama king                 moveis  1208.24  61.919584   \n",
       "4  Cadeira de escritório                 moveis   530.41  25.827176   \n",
       "\n",
       "  Data da Compra        Vendedor Local da compra  Avaliação da compra  \\\n",
       "0     04/08/2021    Thiago Silva              MG                    1   \n",
       "1     26/11/2020   Bianca Santos              RJ                    3   \n",
       "2     22/10/2021    Thiago Silva              SC                    5   \n",
       "3     04/05/2022   Larissa Alves              RS                    5   \n",
       "4     26/02/2022  Lucas Oliveira              SP                    4   \n",
       "\n",
       "  Tipo de pagamento  Quantidade de parcelas    lat    lon  \n",
       "0            boleto                       1 -18.10 -44.38  \n",
       "1    cartao_credito                       4 -22.25 -42.66  \n",
       "2    cartao_credito                      10 -27.45 -50.95  \n",
       "3    cartao_credito                      10 -30.17 -53.50  \n",
       "4    cartao_credito                       3 -22.19 -48.79  "
      ]
     },
     "execution_count": 3,
     "metadata": {},
     "output_type": "execute_result"
    }
   ],
   "source": [
    "loja2.head()"
   ]
  },
  {
   "cell_type": "code",
   "execution_count": 4,
   "metadata": {
    "colab": {
     "base_uri": "https://localhost:8080/",
     "height": 609
    },
    "id": "_1SpDvQQWkzN",
    "outputId": "f59f0248-af34-42bf-ba60-9552373aed92"
   },
   "outputs": [
    {
     "data": {
      "text/html": [
       "<div>\n",
       "<style scoped>\n",
       "    .dataframe tbody tr th:only-of-type {\n",
       "        vertical-align: middle;\n",
       "    }\n",
       "\n",
       "    .dataframe tbody tr th {\n",
       "        vertical-align: top;\n",
       "    }\n",
       "\n",
       "    .dataframe thead th {\n",
       "        text-align: right;\n",
       "    }\n",
       "</style>\n",
       "<table border=\"1\" class=\"dataframe\">\n",
       "  <thead>\n",
       "    <tr style=\"text-align: right;\">\n",
       "      <th></th>\n",
       "      <th>Produto</th>\n",
       "      <th>Categoria do Produto</th>\n",
       "      <th>Preço</th>\n",
       "      <th>Frete</th>\n",
       "      <th>Data da Compra</th>\n",
       "      <th>Vendedor</th>\n",
       "      <th>Local da compra</th>\n",
       "      <th>Avaliação da compra</th>\n",
       "      <th>Tipo de pagamento</th>\n",
       "      <th>Quantidade de parcelas</th>\n",
       "      <th>lat</th>\n",
       "      <th>lon</th>\n",
       "    </tr>\n",
       "  </thead>\n",
       "  <tbody>\n",
       "    <tr>\n",
       "      <th>0</th>\n",
       "      <td>Secadora de roupas</td>\n",
       "      <td>eletrodomesticos</td>\n",
       "      <td>1713.50</td>\n",
       "      <td>88.823159</td>\n",
       "      <td>17/12/2021</td>\n",
       "      <td>Camila Ribeiro</td>\n",
       "      <td>CE</td>\n",
       "      <td>4</td>\n",
       "      <td>cartao_credito</td>\n",
       "      <td>4</td>\n",
       "      <td>-5.20</td>\n",
       "      <td>-39.53</td>\n",
       "    </tr>\n",
       "    <tr>\n",
       "      <th>1</th>\n",
       "      <td>Cômoda</td>\n",
       "      <td>moveis</td>\n",
       "      <td>386.81</td>\n",
       "      <td>18.180908</td>\n",
       "      <td>10/02/2021</td>\n",
       "      <td>Larissa Alves</td>\n",
       "      <td>RS</td>\n",
       "      <td>3</td>\n",
       "      <td>cartao_credito</td>\n",
       "      <td>1</td>\n",
       "      <td>-30.17</td>\n",
       "      <td>-53.50</td>\n",
       "    </tr>\n",
       "    <tr>\n",
       "      <th>2</th>\n",
       "      <td>Violão</td>\n",
       "      <td>instrumentos musicais</td>\n",
       "      <td>404.62</td>\n",
       "      <td>23.197592</td>\n",
       "      <td>22/01/2023</td>\n",
       "      <td>Lucas Oliveira</td>\n",
       "      <td>SP</td>\n",
       "      <td>5</td>\n",
       "      <td>cartao_credito</td>\n",
       "      <td>3</td>\n",
       "      <td>-22.19</td>\n",
       "      <td>-48.79</td>\n",
       "    </tr>\n",
       "    <tr>\n",
       "      <th>3</th>\n",
       "      <td>Bola de vôlei</td>\n",
       "      <td>esporte e lazer</td>\n",
       "      <td>78.40</td>\n",
       "      <td>4.463341</td>\n",
       "      <td>22/03/2022</td>\n",
       "      <td>Pedro Gomes</td>\n",
       "      <td>BA</td>\n",
       "      <td>4</td>\n",
       "      <td>cartao_credito</td>\n",
       "      <td>6</td>\n",
       "      <td>-13.29</td>\n",
       "      <td>-41.71</td>\n",
       "    </tr>\n",
       "    <tr>\n",
       "      <th>4</th>\n",
       "      <td>Guarda roupas</td>\n",
       "      <td>moveis</td>\n",
       "      <td>694.76</td>\n",
       "      <td>34.578319</td>\n",
       "      <td>12/01/2022</td>\n",
       "      <td>Bianca Santos</td>\n",
       "      <td>SP</td>\n",
       "      <td>1</td>\n",
       "      <td>cartao_credito</td>\n",
       "      <td>1</td>\n",
       "      <td>-22.19</td>\n",
       "      <td>-48.79</td>\n",
       "    </tr>\n",
       "  </tbody>\n",
       "</table>\n",
       "</div>"
      ],
      "text/plain": [
       "              Produto   Categoria do Produto    Preço      Frete  \\\n",
       "0  Secadora de roupas       eletrodomesticos  1713.50  88.823159   \n",
       "1              Cômoda                 moveis   386.81  18.180908   \n",
       "2              Violão  instrumentos musicais   404.62  23.197592   \n",
       "3       Bola de vôlei        esporte e lazer    78.40   4.463341   \n",
       "4       Guarda roupas                 moveis   694.76  34.578319   \n",
       "\n",
       "  Data da Compra        Vendedor Local da compra  Avaliação da compra  \\\n",
       "0     17/12/2021  Camila Ribeiro              CE                    4   \n",
       "1     10/02/2021   Larissa Alves              RS                    3   \n",
       "2     22/01/2023  Lucas Oliveira              SP                    5   \n",
       "3     22/03/2022     Pedro Gomes              BA                    4   \n",
       "4     12/01/2022   Bianca Santos              SP                    1   \n",
       "\n",
       "  Tipo de pagamento  Quantidade de parcelas    lat    lon  \n",
       "0    cartao_credito                       4  -5.20 -39.53  \n",
       "1    cartao_credito                       1 -30.17 -53.50  \n",
       "2    cartao_credito                       3 -22.19 -48.79  \n",
       "3    cartao_credito                       6 -13.29 -41.71  \n",
       "4    cartao_credito                       1 -22.19 -48.79  "
      ]
     },
     "execution_count": 4,
     "metadata": {},
     "output_type": "execute_result"
    }
   ],
   "source": [
    "loja3.head()"
   ]
  },
  {
   "cell_type": "code",
   "execution_count": 5,
   "metadata": {
    "colab": {
     "base_uri": "https://localhost:8080/",
     "height": 591
    },
    "id": "M3uZSx2mWpPW",
    "outputId": "634ed20d-1ae4-4e5f-f1a7-66c66ea7ecb0"
   },
   "outputs": [
    {
     "data": {
      "text/html": [
       "<div>\n",
       "<style scoped>\n",
       "    .dataframe tbody tr th:only-of-type {\n",
       "        vertical-align: middle;\n",
       "    }\n",
       "\n",
       "    .dataframe tbody tr th {\n",
       "        vertical-align: top;\n",
       "    }\n",
       "\n",
       "    .dataframe thead th {\n",
       "        text-align: right;\n",
       "    }\n",
       "</style>\n",
       "<table border=\"1\" class=\"dataframe\">\n",
       "  <thead>\n",
       "    <tr style=\"text-align: right;\">\n",
       "      <th></th>\n",
       "      <th>Produto</th>\n",
       "      <th>Categoria do Produto</th>\n",
       "      <th>Preço</th>\n",
       "      <th>Frete</th>\n",
       "      <th>Data da Compra</th>\n",
       "      <th>Vendedor</th>\n",
       "      <th>Local da compra</th>\n",
       "      <th>Avaliação da compra</th>\n",
       "      <th>Tipo de pagamento</th>\n",
       "      <th>Quantidade de parcelas</th>\n",
       "      <th>lat</th>\n",
       "      <th>lon</th>\n",
       "    </tr>\n",
       "  </thead>\n",
       "  <tbody>\n",
       "    <tr>\n",
       "      <th>0</th>\n",
       "      <td>Lava louças</td>\n",
       "      <td>eletrodomesticos</td>\n",
       "      <td>1446.46</td>\n",
       "      <td>74.604083</td>\n",
       "      <td>11/11/2022</td>\n",
       "      <td>Rafael Costa</td>\n",
       "      <td>SP</td>\n",
       "      <td>4</td>\n",
       "      <td>cartao_credito</td>\n",
       "      <td>3</td>\n",
       "      <td>-22.19</td>\n",
       "      <td>-48.79</td>\n",
       "    </tr>\n",
       "    <tr>\n",
       "      <th>1</th>\n",
       "      <td>Cama box</td>\n",
       "      <td>moveis</td>\n",
       "      <td>631.70</td>\n",
       "      <td>33.919251</td>\n",
       "      <td>03/01/2020</td>\n",
       "      <td>Thiago Silva</td>\n",
       "      <td>GO</td>\n",
       "      <td>5</td>\n",
       "      <td>cartao_credito</td>\n",
       "      <td>2</td>\n",
       "      <td>-15.98</td>\n",
       "      <td>-49.86</td>\n",
       "    </tr>\n",
       "    <tr>\n",
       "      <th>2</th>\n",
       "      <td>Bola de basquete</td>\n",
       "      <td>esporte e lazer</td>\n",
       "      <td>31.54</td>\n",
       "      <td>0.000000</td>\n",
       "      <td>25/12/2022</td>\n",
       "      <td>Larissa Alves</td>\n",
       "      <td>MG</td>\n",
       "      <td>5</td>\n",
       "      <td>boleto</td>\n",
       "      <td>1</td>\n",
       "      <td>-18.10</td>\n",
       "      <td>-44.38</td>\n",
       "    </tr>\n",
       "    <tr>\n",
       "      <th>3</th>\n",
       "      <td>Modelagem preditiva</td>\n",
       "      <td>livros</td>\n",
       "      <td>76.93</td>\n",
       "      <td>1.680730</td>\n",
       "      <td>23/11/2021</td>\n",
       "      <td>Lucas Oliveira</td>\n",
       "      <td>MG</td>\n",
       "      <td>3</td>\n",
       "      <td>boleto</td>\n",
       "      <td>1</td>\n",
       "      <td>-18.10</td>\n",
       "      <td>-44.38</td>\n",
       "    </tr>\n",
       "    <tr>\n",
       "      <th>4</th>\n",
       "      <td>Fone de ouvido</td>\n",
       "      <td>eletronicos</td>\n",
       "      <td>185.14</td>\n",
       "      <td>7.442587</td>\n",
       "      <td>25/04/2022</td>\n",
       "      <td>Bianca Santos</td>\n",
       "      <td>SP</td>\n",
       "      <td>4</td>\n",
       "      <td>cartao_credito</td>\n",
       "      <td>7</td>\n",
       "      <td>-22.19</td>\n",
       "      <td>-48.79</td>\n",
       "    </tr>\n",
       "  </tbody>\n",
       "</table>\n",
       "</div>"
      ],
      "text/plain": [
       "               Produto Categoria do Produto    Preço      Frete  \\\n",
       "0          Lava louças     eletrodomesticos  1446.46  74.604083   \n",
       "1             Cama box               moveis   631.70  33.919251   \n",
       "2     Bola de basquete      esporte e lazer    31.54   0.000000   \n",
       "3  Modelagem preditiva               livros    76.93   1.680730   \n",
       "4       Fone de ouvido          eletronicos   185.14   7.442587   \n",
       "\n",
       "  Data da Compra        Vendedor Local da compra  Avaliação da compra  \\\n",
       "0     11/11/2022    Rafael Costa              SP                    4   \n",
       "1     03/01/2020    Thiago Silva              GO                    5   \n",
       "2     25/12/2022   Larissa Alves              MG                    5   \n",
       "3     23/11/2021  Lucas Oliveira              MG                    3   \n",
       "4     25/04/2022   Bianca Santos              SP                    4   \n",
       "\n",
       "  Tipo de pagamento  Quantidade de parcelas    lat    lon  \n",
       "0    cartao_credito                       3 -22.19 -48.79  \n",
       "1    cartao_credito                       2 -15.98 -49.86  \n",
       "2            boleto                       1 -18.10 -44.38  \n",
       "3            boleto                       1 -18.10 -44.38  \n",
       "4    cartao_credito                       7 -22.19 -48.79  "
      ]
     },
     "execution_count": 5,
     "metadata": {},
     "output_type": "execute_result"
    }
   ],
   "source": [
    "loja4.head()"
   ]
  },
  {
   "cell_type": "markdown",
   "metadata": {
    "id": "X62IW3KFUIYm"
   },
   "source": [
    "#1. Análise do faturamento\n"
   ]
  },
  {
   "cell_type": "code",
   "execution_count": 6,
   "metadata": {
    "id": "xykobSftV64I"
   },
   "outputs": [],
   "source": [
    "#criando colunas no dataframe de cada loja\n",
    "loja[\"loja\"] = \"loja 1\"\n",
    "loja2[\"loja\"] = \"loja 2\"\n",
    "loja3[\"loja\"] = \"loja 3\"\n",
    "loja4[\"loja\"] = \"loja 4\""
   ]
  },
  {
   "cell_type": "code",
   "execution_count": 7,
   "metadata": {
    "id": "KDyr8E71V3m-"
   },
   "outputs": [],
   "source": [
    "# concatenando todas as lojas\n",
    "lojas_juntas = pd.concat([loja, loja2, loja3, loja4])"
   ]
  },
  {
   "cell_type": "code",
   "execution_count": 8,
   "metadata": {
    "colab": {
     "base_uri": "https://localhost:8080/",
     "height": 175
    },
    "id": "twXB7Hmbd0zV",
    "outputId": "9d915780-8359-424c-a23d-5c73054b91e8"
   },
   "outputs": [
    {
     "data": {
      "text/html": [
       "<div>\n",
       "<style scoped>\n",
       "    .dataframe tbody tr th:only-of-type {\n",
       "        vertical-align: middle;\n",
       "    }\n",
       "\n",
       "    .dataframe tbody tr th {\n",
       "        vertical-align: top;\n",
       "    }\n",
       "\n",
       "    .dataframe thead th {\n",
       "        text-align: right;\n",
       "    }\n",
       "</style>\n",
       "<table border=\"1\" class=\"dataframe\">\n",
       "  <thead>\n",
       "    <tr style=\"text-align: right;\">\n",
       "      <th></th>\n",
       "      <th>loja</th>\n",
       "      <th>Preço</th>\n",
       "    </tr>\n",
       "  </thead>\n",
       "  <tbody>\n",
       "    <tr>\n",
       "      <th>0</th>\n",
       "      <td>loja 1</td>\n",
       "      <td>R$1.534.509,12</td>\n",
       "    </tr>\n",
       "    <tr>\n",
       "      <th>1</th>\n",
       "      <td>loja 2</td>\n",
       "      <td>R$1.488.459,06</td>\n",
       "    </tr>\n",
       "    <tr>\n",
       "      <th>2</th>\n",
       "      <td>loja 3</td>\n",
       "      <td>R$1.464.025,03</td>\n",
       "    </tr>\n",
       "    <tr>\n",
       "      <th>3</th>\n",
       "      <td>loja 4</td>\n",
       "      <td>R$1.384.497,58</td>\n",
       "    </tr>\n",
       "  </tbody>\n",
       "</table>\n",
       "</div>"
      ],
      "text/plain": [
       "     loja           Preço\n",
       "0  loja 1  R$1.534.509,12\n",
       "1  loja 2  R$1.488.459,06\n",
       "2  loja 3  R$1.464.025,03\n",
       "3  loja 4  R$1.384.497,58"
      ]
     },
     "execution_count": 8,
     "metadata": {},
     "output_type": "execute_result"
    }
   ],
   "source": [
    "faturamento_por_loja = lojas_juntas.groupby(\"loja\")[\"Preço\"].sum().reset_index()\n",
    "faturamento_por_loja[\"Preço\"] = faturamento_por_loja[\"Preço\"].apply(lambda x: f\"R${x:,.2f}\".replace(\",\", \"x\").replace(\".\", \",\").replace(\"x\", \".\"))\n",
    "faturamento_por_loja"
   ]
  },
  {
   "cell_type": "code",
   "execution_count": 9,
   "metadata": {
    "colab": {
     "base_uri": "https://localhost:8080/",
     "height": 486
    },
    "id": "g7VRTo5vhoaw",
    "outputId": "9c99ac85-1b35-4cf8-d9c9-3b55290af585"
   },
   "outputs": [
    {
     "data": {
      "image/png": "[encoded data removed]",
      "text/plain": [
       "<Figure size 640x480 with 1 Axes>"
      ]
     },
     "metadata": {},
     "output_type": "display_data"
    }
   ],
   "source": [
    "faturamento_por_lojas = lojas_juntas.groupby(\"loja\")[\"Preço\"].sum().reset_index()\n",
    "\n",
    "#criando gráfico de barra\n",
    "barra = plt.bar(faturamento_por_lojas[\"loja\"], faturamento_por_lojas[\"Preço\"], color = \"blue\")\n",
    "\n",
    "#adicionando valores acima de cada barra\n",
    "for barra in barra:\n",
    "  altura = barra.get_height()\n",
    "  plt.text(barra.get_x() + barra.get_width()/2, altura + 1000,           #posição\n",
    "           f\"R$ {altura:,.2f}\",                                          # texto formatado\n",
    "           ha = \"center\", va = \"bottom\", fontsize = 8, color = \"black\")  # centralizado\n",
    "\n",
    "#Rótulos e título\n",
    "\n",
    "plt.title (\"Faturamento por loja\")\n",
    "plt.xlabel(\"Loja\")\n",
    "plt.ylabel(\"Faturameto(R$)\")\n",
    "plt.xticks(rotation=45)\n",
    "plt.tight_layout()\n",
    "\n",
    "plt.show()"
   ]
  },
  {
   "cell_type": "code",
   "execution_count": 10,
   "metadata": {
    "colab": {
     "base_uri": "https://localhost:8080/"
    },
    "id": "wZ0Hkexlek_p",
    "outputId": "fe8bb33c-4f9a-4f70-a3ea-8cf0552c15c5"
   },
   "outputs": [
    {
     "name": "stdout",
     "output_type": "stream",
     "text": [
      " O total do faturamento do seu João, com as 4 lojas foi de: R$ 5.871.490,79\n"
     ]
    }
   ],
   "source": [
    "total_vendas = (\n",
    "    loja[\"Preço\"].sum()\n",
    "    + loja2[\"Preço\"].sum()\n",
    "    + loja3[\"Preço\"].sum()\n",
    "    + loja4[\"Preço\"].sum()\n",
    ")\n",
    "total_formatado = f\"R$ {total_vendas:,.2f}\".replace(\",\", \"x\").replace(\".\", \",\").replace(\"x\", \".\")\n",
    "\n",
    "print(f\" O total do faturamento do seu João, com as 4 lojas foi de: {total_formatado}\")"
   ]
  },
  {
   "cell_type": "code",
   "execution_count": 11,
   "metadata": {
    "id": "pnOdDFY4uGlB"
   },
   "outputs": [],
   "source": [
    "def media (loja_df, total_vendas):\n",
    "  \"\"\"\n",
    "    Calcula a porcentagem de participação de uma loja no total de vendas.\n",
    "\n",
    "    Parâmetros:\n",
    "    loja_df (DataFrame): DataFrame da loja, contendo uma coluna \"Preço\" com os valores de vendas.\n",
    "    total_vendas (float): Valor total das vendas de todas as lojas.\n",
    "\n",
    "    Retorna:\n",
    "    float: Porcentagem que representa a participação da loja no total de vendas.\n",
    "    \"\"\"\n",
    "  calculo = (loja_df[\"Preço\"].sum() / total_vendas) *100\n",
    "  return calculo\n",
    "\n"
   ]
  },
  {
   "cell_type": "code",
   "execution_count": 12,
   "metadata": {
    "id": "3tcK1YYr5AzL"
   },
   "outputs": [],
   "source": [
    "\n",
    "lojas = [\"Loja 1\", \"Loja 2\", \"Loja 3\",  \"Loja 4\"]\n",
    "\n",
    "porcentagens = [\n",
    "    media(loja,total_vendas),\n",
    "    media(loja2,total_vendas),\n",
    "    media(loja3, total_vendas),\n",
    "    media(loja4,total_vendas)\n",
    "]"
   ]
  },
  {
   "cell_type": "code",
   "execution_count": 13,
   "metadata": {
    "colab": {
     "base_uri": "https://localhost:8080/",
     "height": 428
    },
    "id": "_zn1llG_5Lzu",
    "outputId": "1bc0a602-dd9a-4308-e1eb-217167892fb2"
   },
   "outputs": [
    {
     "data": {
      "image/png": "[encoded data removed]",
      "text/plain": [
       "<Figure size 640x480 with 1 Axes>"
      ]
     },
     "metadata": {},
     "output_type": "display_data"
    }
   ],
   "source": [
    "#criar gráfico de pizza\n",
    "plt.pie(porcentagens, labels = lojas, autopct =\"%.1f%%\", startangle = 90, shadow = True)\n",
    "plt.title(\"Participação percentual no faturamento por loja\")\n",
    "plt.axis(\"equal\")\n",
    "plt.show()\n"
   ]
  },
  {
   "cell_type": "code",
   "execution_count": 14,
   "metadata": {
    "colab": {
     "base_uri": "https://localhost:8080/"
    },
    "id": "ItTxi5kJpGGX",
    "outputId": "96fbf20c-f070-4554-a3a6-1bd78c6480fe"
   },
   "outputs": [
    {
     "name": "stdout",
     "output_type": "stream",
     "text": [
      "Ano\n",
      "2020    R$1.789.272,37\n",
      "2021    R$1.898.820,98\n",
      "2022    R$1.769.933,73\n",
      "2023      R$413.463,71\n",
      "Name: Preço, dtype: object\n"
     ]
    },
    {
     "name": "stderr",
     "output_type": "stream",
     "text": [
      "C:\\Users\\ELTON\\AppData\\Local\\Temp\\ipykernel_13940\\3987647893.py:2: UserWarning: Parsing dates in %d/%m/%Y format when dayfirst=False (the default) was specified. Pass `dayfirst=True` or specify a format to silence this warning.\n",
      "  lojas_juntas[\"Data da Compra\"] = pd.to_datetime(lojas_juntas[\"Data da Compra\"])\n"
     ]
    }
   ],
   "source": [
    "#garatindo que a colunda de data esteja no formato datetime\n",
    "lojas_juntas[\"Data da Compra\"] = pd.to_datetime(lojas_juntas[\"Data da Compra\"])\n",
    "\n",
    "#criando uma nova coluna com o ano da compra\n",
    "lojas_juntas[\"Ano\"] = lojas_juntas[\"Data da Compra\"].dt.year\n",
    "\n",
    "faturamento_por_ano = lojas_juntas.groupby(\"Ano\")[\"Preço\"].sum().round(2)\n",
    "\n",
    "faturamento_por_ano_formatado = faturamento_por_ano.apply(lambda x: f\"R${x:,.2f}\".replace(\",\", \"x\").replace(\".\", \",\").replace(\"x\", \".\"))\n",
    "\n",
    "print(faturamento_por_ano_formatado)"
   ]
  },
  {
   "cell_type": "code",
   "execution_count": 15,
   "metadata": {
    "colab": {
     "base_uri": "https://localhost:8080/",
     "height": 261
    },
    "id": "XlFCCUnfrPKI",
    "outputId": "1a45ef61-2001-4dd9-e869-c03612f9e87c"
   },
   "outputs": [
    {
     "name": "stderr",
     "output_type": "stream",
     "text": [
      "C:\\Users\\ELTON\\AppData\\Local\\Temp\\ipykernel_13940\\4026494186.py:2: FutureWarning: DataFrame.applymap has been deprecated. Use DataFrame.map instead.\n",
      "  faturamento_ano_loja_formatado = faturamento_ano_loja.applymap(lambda x: f\"R${x:,.2f}\".replace(\",\", \"x\").replace(\".\", \",\").replace(\"x\", \".\"))\n"
     ]
    },
    {
     "data": {
      "text/html": [
       "<div>\n",
       "<style scoped>\n",
       "    .dataframe tbody tr th:only-of-type {\n",
       "        vertical-align: middle;\n",
       "    }\n",
       "\n",
       "    .dataframe tbody tr th {\n",
       "        vertical-align: top;\n",
       "    }\n",
       "\n",
       "    .dataframe thead th {\n",
       "        text-align: right;\n",
       "    }\n",
       "</style>\n",
       "<table border=\"1\" class=\"dataframe\">\n",
       "  <thead>\n",
       "    <tr style=\"text-align: right;\">\n",
       "      <th>loja</th>\n",
       "      <th>loja 1</th>\n",
       "      <th>loja 2</th>\n",
       "      <th>loja 3</th>\n",
       "      <th>loja 4</th>\n",
       "    </tr>\n",
       "    <tr>\n",
       "      <th>Ano</th>\n",
       "      <th></th>\n",
       "      <th></th>\n",
       "      <th></th>\n",
       "      <th></th>\n",
       "    </tr>\n",
       "  </thead>\n",
       "  <tbody>\n",
       "    <tr>\n",
       "      <th>2020</th>\n",
       "      <td>R$491.911,51</td>\n",
       "      <td>R$427.288,25</td>\n",
       "      <td>R$428.943,09</td>\n",
       "      <td>R$441.129,52</td>\n",
       "    </tr>\n",
       "    <tr>\n",
       "      <th>2021</th>\n",
       "      <td>R$482.829,91</td>\n",
       "      <td>R$468.288,89</td>\n",
       "      <td>R$483.938,91</td>\n",
       "      <td>R$463.763,27</td>\n",
       "    </tr>\n",
       "    <tr>\n",
       "      <th>2022</th>\n",
       "      <td>R$422.086,24</td>\n",
       "      <td>R$477.635,56</td>\n",
       "      <td>R$467.250,70</td>\n",
       "      <td>R$402.961,23</td>\n",
       "    </tr>\n",
       "    <tr>\n",
       "      <th>2023</th>\n",
       "      <td>R$137.681,46</td>\n",
       "      <td>R$115.246,36</td>\n",
       "      <td>R$83.892,33</td>\n",
       "      <td>R$76.643,56</td>\n",
       "    </tr>\n",
       "  </tbody>\n",
       "</table>\n",
       "</div>"
      ],
      "text/plain": [
       "loja        loja 1        loja 2        loja 3        loja 4\n",
       "Ano                                                         \n",
       "2020  R$491.911,51  R$427.288,25  R$428.943,09  R$441.129,52\n",
       "2021  R$482.829,91  R$468.288,89  R$483.938,91  R$463.763,27\n",
       "2022  R$422.086,24  R$477.635,56  R$467.250,70  R$402.961,23\n",
       "2023  R$137.681,46  R$115.246,36   R$83.892,33   R$76.643,56"
      ]
     },
     "execution_count": 15,
     "metadata": {},
     "output_type": "execute_result"
    }
   ],
   "source": [
    "faturamento_ano_loja = lojas_juntas.groupby([\"Ano\", \"loja\"])[\"Preço\"].sum().unstack().round(2)\n",
    "faturamento_ano_loja_formatado = faturamento_ano_loja.applymap(lambda x: f\"R${x:,.2f}\".replace(\",\", \"x\").replace(\".\", \",\").replace(\"x\", \".\"))\n",
    "\n",
    "faturamento_ano_loja_formatado"
   ]
  },
  {
   "cell_type": "code",
   "execution_count": null,
   "metadata": {
    "colab": {
     "base_uri": "https://localhost:8080/"
    },
    "id": "RMTR3SEyt7b_",
    "outputId": "4de97271-9e5c-4cf3-b7f5-526ab5f41450"
   },
   "outputs": [],
   "source": []
  },
  {
   "cell_type": "markdown",
   "metadata": {
    "id": "2V_vcAPzWZmR"
   },
   "source": [
    "# 2. Vendas por Categoria\n"
   ]
  },
  {
   "cell_type": "code",
   "execution_count": 16,
   "metadata": {
    "colab": {
     "base_uri": "https://localhost:8080/"
    },
    "id": "yZR6cOjXYSk1",
    "outputId": "598dd836-d896-4023-902a-218dab02be77"
   },
   "outputs": [
    {
     "name": "stdout",
     "output_type": "stream",
     "text": [
      "Quantidade vendida por categoria:\n",
      "\n",
      "Categoria do Produto\n",
      "moveis                   1886\n",
      "eletronicos              1772\n",
      "brinquedos               1290\n",
      "eletrodomesticos         1149\n",
      "esporte e lazer          1113\n",
      "instrumentos musicais     753\n",
      "livros                    742\n",
      "utilidades domesticas     730\n",
      "Name: count, dtype: int64\n",
      "\n",
      "Faturamento por categoria:\n",
      "\n",
      "Categoria do Produto\n",
      "brinquedos                  R$98.140,86\n",
      "eletrodomesticos         R$1.766.337,03\n",
      "eletronicos              R$2.214.099,72\n",
      "esporte e lazer            R$190.635,39\n",
      "instrumentos musicais      R$465.029,67\n",
      "livros                      R$50.260,74\n",
      "moveis                   R$1.010.214,00\n",
      "utilidades domesticas       R$76.773,38\n",
      "Name: Preço, dtype: object\n"
     ]
    }
   ],
   "source": [
    "qntd_vendida_por_categoria = lojas_juntas['Categoria do Produto'].value_counts()\n",
    "print(\"Quantidade vendida por categoria:\\n\")\n",
    "print(qntd_vendida_por_categoria)\n",
    "\n",
    "\n",
    "faturamento_por_categoria = lojas_juntas.groupby(\"Categoria do Produto\")[\"Preço\"].sum()\n",
    "faturamento_por_categoria = faturamento_por_categoria.apply(lambda x : f\"R${x:,.2f}\".replace(\",\", \"x\").replace(\".\", \",\").replace(\"x\", \".\"))\n",
    "\n",
    "print(\"\\nFaturamento por categoria:\\n\")\n",
    "print(faturamento_por_categoria)\n"
   ]
  },
  {
   "cell_type": "code",
   "execution_count": 17,
   "metadata": {
    "colab": {
     "base_uri": "https://localhost:8080/"
    },
    "id": "fHHIyTZYHJ0h",
    "outputId": "0b6d233b-e932-4b6d-9174-3e059a51bb5d"
   },
   "outputs": [
    {
     "name": "stdout",
     "output_type": "stream",
     "text": [
      "\n",
      "Resumo por categoria:\n",
      "\n",
      "                       Quantidade Vendida Preço Médio(R$) Faturamento(R$)  \\\n",
      "Categoria do Produto                                                        \n",
      "eletronicos                          1772      R$1.249,49  R$2.214.099,72   \n",
      "eletrodomesticos                     1149      R$1.537,28  R$1.766.337,03   \n",
      "moveis                               1886        R$535,64  R$1.010.214,00   \n",
      "instrumentos musicais                 753        R$617,57    R$465.029,67   \n",
      "esporte e lazer                      1113        R$171,28    R$190.635,39   \n",
      "brinquedos                           1290         R$76,08     R$98.140,86   \n",
      "utilidades domesticas                 730        R$105,17     R$76.773,38   \n",
      "livros                                742         R$67,74     R$50.260,74   \n",
      "\n",
      "                      % Faturamento  \n",
      "Categoria do Produto                 \n",
      "eletronicos                  37.71%  \n",
      "eletrodomesticos             30.08%  \n",
      "moveis                       17.21%  \n",
      "instrumentos musicais         7.92%  \n",
      "esporte e lazer               3.25%  \n",
      "brinquedos                    1.67%  \n",
      "utilidades domesticas         1.31%  \n",
      "livros                        0.86%  \n"
     ]
    }
   ],
   "source": [
    "#quantidade vendida por categoria\n",
    "quantidade = lojas_juntas[\"Categoria do Produto\"].value_counts().rename(\"Quantidade Vendida\")\n",
    "\n",
    "#Faturamento por categoria\n",
    "faturamento = lojas_juntas.groupby(\"Categoria do Produto\")[\"Preço\"].sum().rename(\"Faturamento(R$)\")\n",
    "\n",
    "#Preço medio por categoria\n",
    "preco_medio = lojas_juntas.groupby(\"Categoria do Produto\")[\"Preço\"].mean().rename(\"Preço Médio(R$)\")\n",
    "\n",
    "\n",
    "#criando nova tabela\n",
    "tabela_categoria = pd.concat([quantidade, preco_medio, faturamento], axis = 1)\n",
    "\n",
    "#faturamento total\n",
    "faturamento_total = tabela_categoria[\"Faturamento(R$)\"].sum()\n",
    "\n",
    "#porcentagem por categoria com base no faturamento\n",
    "tabela_categoria[\"% Faturamento\"] = (tabela_categoria[\"Faturamento(R$)\"] / faturamento_total)* 100\n",
    "\n",
    "tabela_categoria[\"% Faturamento\"]= tabela_categoria[\"% Faturamento\"].apply(\n",
    "    lambda x: f\"{x:.2f}%\"\n",
    ")\n",
    "\n",
    "#ordenando pela coluna faturamento\n",
    "tabela_categoria=tabela_categoria.sort_values(\"Faturamento(R$)\",ascending = False)\n",
    "\n",
    "#formatando valores para exibiçao(sem afetar os calculos)\n",
    "tabela_categoria_formatada = tabela_categoria.copy()\n",
    "tabela_categoria_formatada[\"Faturamento(R$)\"] = tabela_categoria_formatada[\"Faturamento(R$)\"].apply(\n",
    "    lambda x:f\"R${x:,.2f}\".replace(\",\", \"x\").replace(\".\",\",\").replace(\"x\",\".\")\n",
    "\n",
    ")\n",
    "tabela_categoria_formatada[\"Preço Médio(R$)\"]= tabela_categoria_formatada[\"Preço Médio(R$)\"].apply(\n",
    "    lambda x:f\"R${x:,.2f}\".replace(\",\",\"x\").replace(\".\",\",\").replace(\"x\", \".\")\n",
    "\n",
    ")\n",
    "\n",
    "\n",
    "print(\"\\nResumo por categoria:\\n\")\n",
    "print(tabela_categoria_formatada)\n"
   ]
  },
  {
   "cell_type": "code",
   "execution_count": 41,
   "metadata": {
    "colab": {
     "base_uri": "https://localhost:8080/",
     "height": 486
    },
    "id": "QvrbVuq2Yixy",
    "outputId": "e7e665f7-ab7d-45e2-8c97-c41cdf1e4ba1"
   },
   "outputs": [
    {
     "data": {
      "image/png": "[encoded data removed]",
      "text/plain": [
       "<Figure size 640x480 with 1 Axes>"
      ]
     },
     "metadata": {},
     "output_type": "display_data"
    }
   ],
   "source": [
    "tabela_categoria_num = tabela_categoria.copy()\n",
    "\n",
    "tabela_categoria_num[\"Faturamento(R$)\"] = (tabela_categoria_num[\"Faturamento(R$)\"].replace(\n",
    "    {r\"R\\$\": \"\", r\"\\.\": \"\", \",\": \".\"}, regex=True\n",
    ").astype(float)\n",
    ")\n",
    "\n",
    "barra_faturamento = plt.bar(tabela_categoria_num.index, tabela_categoria_num[\"Faturamento(R$)\"], color = \"blue\")\n",
    "\n",
    "for barra in barra_faturamento.patches:\n",
    "  altura = barra.get_height()\n",
    "  plt.text(barra.get_x() + barra.get_width()/2, altura + (altura * 0.008),           #posição\n",
    "           f\"R$ {altura:,.2f}\",                                          # texto formatado\n",
    "           ha = \"center\", va = \"bottom\", fontsize = 8, color = \"black\")\n",
    "\n",
    "plt.title( \"Faturamento(R$) por Categoria\")\n",
    "plt.xlabel(\"Categoria do Produto\")\n",
    "plt.ylabel(\"Faturamento(R$)\")\n",
    "plt.xticks(rotation=75)\n",
    "plt.tight_layout()\n",
    "\n",
    "plt.show()\n"
   ]
  },
  {
   "cell_type": "code",
   "execution_count": 19,
   "metadata": {
    "colab": {
     "base_uri": "https://localhost:8080/"
    },
    "id": "GTsbHPvD_ubT",
    "outputId": "4d9cafb8-3563-4a93-caaf-dfcc54c19603"
   },
   "outputs": [
    {
     "name": "stdout",
     "output_type": "stream",
     "text": [
      "\n",
      "Resumo da LOJA 1\n",
      "                       Quantidade Vendida Preço Médio(R$) Faturamento(R$)  \\\n",
      "Categoria do Produto                                                        \n",
      "eletronicos                           448      R$1.278,26    R$572.659,23   \n",
      "eletrodomesticos                      312      R$1.554,21    R$484.913,36   \n",
      "moveis                                465        R$538,02    R$250.178,11   \n",
      "instrumentos musicais                 182        R$668,86    R$121.731,69   \n",
      "esporte e lazer                       284        R$184,46     R$52.387,55   \n",
      "brinquedos                            324         R$74,05     R$23.993,78   \n",
      "utilidades domesticas                 171         R$99,01     R$16.931,48   \n",
      "livros                                173         R$67,71     R$11.713,92   \n",
      "\n",
      "                      % Faturamento  \n",
      "Categoria do Produto                 \n",
      "eletronicos                  37.32%  \n",
      "eletrodomesticos             31.60%  \n",
      "moveis                       16.30%  \n",
      "instrumentos musicais         7.93%  \n",
      "esporte e lazer               3.41%  \n",
      "brinquedos                    1.56%  \n",
      "utilidades domesticas         1.10%  \n",
      "livros                        0.76%  \n",
      "\n",
      "Resumo da LOJA 2\n",
      "                       Quantidade Vendida Preço Médio(R$) Faturamento(R$)  \\\n",
      "Categoria do Produto                                                        \n",
      "eletronicos                           422      R$1.298,04    R$547.773,71   \n",
      "eletrodomesticos                      305      R$1.523,80    R$464.758,13   \n",
      "moveis                                442        R$532,21    R$235.234,68   \n",
      "instrumentos musicais                 224        R$624,94    R$139.987,03   \n",
      "esporte e lazer                       275        R$168,46     R$46.326,09   \n",
      "brinquedos                            313         R$67,93     R$21.262,21   \n",
      "utilidades domesticas                 181        R$108,63     R$19.662,86   \n",
      "livros                                197         R$68,30     R$13.454,35   \n",
      "\n",
      "                      % Faturamento  \n",
      "Categoria do Produto                 \n",
      "eletronicos                  36.80%  \n",
      "eletrodomesticos             31.22%  \n",
      "moveis                       15.80%  \n",
      "instrumentos musicais         9.40%  \n",
      "esporte e lazer               3.11%  \n",
      "brinquedos                    1.43%  \n",
      "utilidades domesticas         1.32%  \n",
      "livros                        0.90%  \n",
      "\n",
      "Resumo da LOJA 3\n",
      "                       Quantidade Vendida Preço Médio(R$) Faturamento(R$)  \\\n",
      "Categoria do Produto                                                        \n",
      "eletronicos                           451      R$1.214,41    R$547.699,92   \n",
      "eletrodomesticos                      278      R$1.579,08    R$438.984,89   \n",
      "moveis                                499        R$537,27    R$268.095,56   \n",
      "instrumentos musicais                 177        R$582,91    R$103.174,45   \n",
      "esporte e lazer                       277        R$171,32     R$47.456,10   \n",
      "brinquedos                            315         R$82,12     R$25.869,20   \n",
      "utilidades domesticas                 177        R$113,45     R$20.080,21   \n",
      "livros                                185         R$68,46     R$12.664,70   \n",
      "\n",
      "                      % Faturamento  \n",
      "Categoria do Produto                 \n",
      "eletronicos                  37.41%  \n",
      "eletrodomesticos             29.98%  \n",
      "moveis                       18.31%  \n",
      "instrumentos musicais         7.05%  \n",
      "esporte e lazer               3.24%  \n",
      "brinquedos                    1.77%  \n",
      "utilidades domesticas         1.37%  \n",
      "livros                        0.87%  \n",
      "\n",
      "Resumo da LOJA 4\n",
      "                       Quantidade Vendida Preço Médio(R$) Faturamento(R$)  \\\n",
      "Categoria do Produto                                                        \n",
      "eletronicos                           451      R$1.210,57    R$545.966,86   \n",
      "eletrodomesticos                      254      R$1.486,93    R$377.680,65   \n",
      "moveis                                480        R$534,80    R$256.705,65   \n",
      "instrumentos musicais                 170        R$589,04    R$100.136,50   \n",
      "esporte e lazer                       277        R$160,53     R$44.465,65   \n",
      "brinquedos                            338         R$79,93     R$27.015,67   \n",
      "utilidades domesticas                 201         R$99,99     R$20.098,83   \n",
      "livros                                187         R$66,46     R$12.427,77   \n",
      "\n",
      "                      % Faturamento  \n",
      "Categoria do Produto                 \n",
      "eletronicos                  39.43%  \n",
      "eletrodomesticos             27.28%  \n",
      "moveis                       18.54%  \n",
      "instrumentos musicais         7.23%  \n",
      "esporte e lazer               3.21%  \n",
      "brinquedos                    1.95%  \n",
      "utilidades domesticas         1.45%  \n",
      "livros                        0.90%  \n"
     ]
    }
   ],
   "source": [
    "# Obter os nomes únicos das lojas\n",
    "nomes_lojas = lojas_juntas[\"loja\"].unique()\n",
    "\n",
    "for nome in nomes_lojas:\n",
    "    loja = lojas_juntas[lojas_juntas[\"loja\"] == nome]\n",
    "\n",
    "    quantidade = loja[\"Categoria do Produto\"].value_counts().rename(\"Quantidade Vendida\")\n",
    "    faturamento = loja.groupby(\"Categoria do Produto\")[\"Preço\"].sum().rename(\"Faturamento(R$)\")\n",
    "    preco_medio = loja.groupby(\"Categoria do Produto\")[\"Preço\"].mean().rename(\"Preço Médio(R$)\")\n",
    "\n",
    "    tabela = pd.concat([quantidade, preco_medio, faturamento], axis=1).sort_values(\"Faturamento(R$)\", ascending=False)\n",
    "\n",
    "    total_faturamento = tabela[\"Faturamento(R$)\"].sum()\n",
    "\n",
    "    tabela[\"% Faturamento\"] = (tabela[\"Faturamento(R$)\"] / total_faturamento)* 100\n",
    "\n",
    "    tabela_formatada = tabela.copy()\n",
    "\n",
    "    tabela_formatada[\"Faturamento(R$)\"] = tabela_formatada[\"Faturamento(R$)\"].apply(\n",
    "    lambda x:f\"R${x:,.2f}\".replace(\",\", \"x\").replace(\".\",\",\").replace(\"x\",\".\")\n",
    "    )\n",
    "\n",
    "    tabela_formatada[\"Preço Médio(R$)\"]= tabela_formatada[\"Preço Médio(R$)\"].apply(\n",
    "    lambda x:f\"R${x:,.2f}\".replace(\",\",\"x\").replace(\".\",\",\").replace(\"x\", \".\")\n",
    "\n",
    ")\n",
    "\n",
    "    tabela_formatada[\"% Faturamento\"]= tabela_formatada[\"% Faturamento\"].apply(\n",
    "    lambda x: f\"{x:.2f}%\"\n",
    ")\n",
    "    print(f\"\\nResumo da {nome.upper()}\")\n",
    "    print(tabela_formatada)\n"
   ]
  },
  {
   "cell_type": "markdown",
   "metadata": {
    "id": "Rq6tU_xSY3jk"
   },
   "source": [
    "# 3. Média de Avaliação das Lojas"
   ]
  },
  {
   "cell_type": "code",
   "execution_count": 20,
   "metadata": {
    "colab": {
     "base_uri": "https://localhost:8080/"
    },
    "id": "bh3jjjJwY5MU",
    "outputId": "8cd2f6d3-ff87-4ed2-e62f-b1ac03514d44"
   },
   "outputs": [
    {
     "name": "stdout",
     "output_type": "stream",
     "text": [
      "\n",
      "A média de avaliações das 4 lojas somadas é:\n",
      "\n",
      "4.01\n"
     ]
    }
   ],
   "source": [
    "avaliacao = lojas_juntas[\"Avaliação da compra\"].sum()\n",
    "\n",
    "\n",
    "media_avaliacao = avaliacao / len(lojas_juntas[\"Avaliação da compra\"])\n",
    "print(\"\\nA média de avaliações das 4 lojas somadas é:\\n\")\n",
    "print(f\"{media_avaliacao:,.2f}\")"
   ]
  },
  {
   "cell_type": "code",
   "execution_count": 21,
   "metadata": {
    "colab": {
     "base_uri": "https://localhost:8080/"
    },
    "id": "I0KkjPoTY88F",
    "outputId": "c5a7d330-ee3a-49f2-f336-7e6bcee8ac7c"
   },
   "outputs": [
    {
     "name": "stdout",
     "output_type": "stream",
     "text": [
      "loja 1: 3.98\n",
      "loja 2: 4.04\n",
      "loja 3: 4.05\n",
      "loja 4: 4.00\n"
     ]
    }
   ],
   "source": [
    "media_avaliacao_por_lojas = lojas_juntas.groupby(\"loja\")[\"Avaliação da compra\"].mean().round(2)\n",
    "\n",
    "for loja,media in media_avaliacao_por_lojas.items():\n",
    "  print(f\"{loja}: {media:.2f}\")"
   ]
  },
  {
   "cell_type": "code",
   "execution_count": 22,
   "metadata": {
    "colab": {
     "base_uri": "https://localhost:8080/"
    },
    "id": "CSJYJuS22dG9",
    "outputId": "b8c6d05c-2ffc-4453-b934-f17bb24d6917"
   },
   "outputs": [
    {
     "name": "stdout",
     "output_type": "stream",
     "text": [
      "Loja: loja 1:| avaliação: 1| quantidade: 319\n",
      "Loja: loja 1:| avaliação: 2| quantidade: 86\n",
      "Loja: loja 1:| avaliação: 3| quantidade: 218\n",
      "Loja: loja 1:| avaliação: 4| quantidade: 444\n",
      "Loja: loja 1:| avaliação: 5| quantidade: 1292\n",
      "\n",
      "Loja: loja 2:| avaliação: 1| quantidade: 273\n",
      "Loja: loja 2:| avaliação: 2| quantidade: 93\n",
      "Loja: loja 2:| avaliação: 3| quantidade: 209\n",
      "Loja: loja 2:| avaliação: 4| quantidade: 482\n",
      "Loja: loja 2:| avaliação: 5| quantidade: 1302\n",
      "\n",
      "Loja: loja 3:| avaliação: 1| quantidade: 297\n",
      "Loja: loja 3:| avaliação: 2| quantidade: 79\n",
      "Loja: loja 3:| avaliação: 3| quantidade: 193\n",
      "Loja: loja 3:| avaliação: 4| quantidade: 434\n",
      "Loja: loja 3:| avaliação: 5| quantidade: 1356\n",
      "\n",
      "Loja: loja 4:| avaliação: 1| quantidade: 310\n",
      "Loja: loja 4:| avaliação: 2| quantidade: 85\n",
      "Loja: loja 4:| avaliação: 3| quantidade: 210\n",
      "Loja: loja 4:| avaliação: 4| quantidade: 453\n",
      "Loja: loja 4:| avaliação: 5| quantidade: 1300\n"
     ]
    }
   ],
   "source": [
    "quantidade_por_nota = (\n",
    "    lojas_juntas.groupby(\"loja\")[\"Avaliação da compra\"]\n",
    "    .value_counts()\n",
    "    .sort_index()\n",
    "    .groupby(level= 0)\n",
    "    .head(5)\n",
    ")\n",
    "\n",
    "loja_anterior = None\n",
    "for (loja,avaliacao), quantidade in quantidade_por_nota.items():\n",
    "  if loja != loja_anterior and loja_anterior is not None:\n",
    "    print()\n",
    "  print(f\"Loja: {loja}:| avaliação: {avaliacao}| quantidade: {quantidade}\")\n",
    "  loja_anterior = loja"
   ]
  },
  {
   "cell_type": "code",
   "execution_count": 23,
   "metadata": {
    "colab": {
     "base_uri": "https://localhost:8080/"
    },
    "id": "W9_ggCkB-gAu",
    "outputId": "8dd87191-b780-4550-a2fd-745d13e51629"
   },
   "outputs": [
    {
     "name": "stdout",
     "output_type": "stream",
     "text": [
      "Loja: loja 1\n",
      "Beatriz Moraes  | Avaliação: 1   | Quantidade:  25 | %:  15.2% | % Acumulada:  15.2%\n",
      "Beatriz Moraes  | Avaliação: 2   | Quantidade:   5 | %:   3.0% | % Acumulada:  18.2%\n",
      "Beatriz Moraes  | Avaliação: 3   | Quantidade:  11 | %:   6.7% | % Acumulada:  24.8%\n",
      "Beatriz Moraes  | Avaliação: 4   | Quantidade:  24 | %:  14.5% | % Acumulada:  39.4%\n",
      "Beatriz Moraes  | Avaliação: 5   | Quantidade: 100 | %:  60.6% | % Acumulada:  100.0%\n",
      "\n",
      "Bianca Santos   | Avaliação: 1   | Quantidade:  23 | %:  12.8% | % Acumulada:  12.8%\n",
      "Bianca Santos   | Avaliação: 2   | Quantidade:   5 | %:   2.8% | % Acumulada:  15.6%\n",
      "Bianca Santos   | Avaliação: 3   | Quantidade:  22 | %:  12.2% | % Acumulada:  27.8%\n",
      "Bianca Santos   | Avaliação: 4   | Quantidade:  31 | %:  17.2% | % Acumulada:  45.0%\n",
      "Bianca Santos   | Avaliação: 5   | Quantidade:  99 | %:  55.0% | % Acumulada:  100.0%\n",
      "\n",
      "Bruno Rodrigues | Avaliação: 1   | Quantidade:  15 | %:   8.9% | % Acumulada:   8.9%\n",
      "Bruno Rodrigues | Avaliação: 2   | Quantidade:   2 | %:   1.2% | % Acumulada:  10.1%\n",
      "Bruno Rodrigues | Avaliação: 3   | Quantidade:   8 | %:   4.7% | % Acumulada:  14.8%\n",
      "Bruno Rodrigues | Avaliação: 4   | Quantidade:  45 | %:  26.6% | % Acumulada:  41.4%\n",
      "Bruno Rodrigues | Avaliação: 5   | Quantidade:  99 | %:  58.6% | % Acumulada:  100.0%\n",
      "\n",
      "Camila Ribeiro  | Avaliação: 1   | Quantidade:  26 | %:  15.6% | % Acumulada:  15.6%\n",
      "Camila Ribeiro  | Avaliação: 2   | Quantidade:   2 | %:   1.2% | % Acumulada:  16.8%\n",
      "Camila Ribeiro  | Avaliação: 3   | Quantidade:  15 | %:   9.0% | % Acumulada:  25.7%\n",
      "Camila Ribeiro  | Avaliação: 4   | Quantidade:  36 | %:  21.6% | % Acumulada:  47.3%\n",
      "Camila Ribeiro  | Avaliação: 5   | Quantidade:  88 | %:  52.7% | % Acumulada:  100.0%\n",
      "\n",
      "Felipe Santos   | Avaliação: 1   | Quantidade:  22 | %:  12.9% | % Acumulada:  12.9%\n",
      "Felipe Santos   | Avaliação: 2   | Quantidade:   5 | %:   2.9% | % Acumulada:  15.9%\n",
      "Felipe Santos   | Avaliação: 3   | Quantidade:  15 | %:   8.8% | % Acumulada:  24.7%\n",
      "Felipe Santos   | Avaliação: 4   | Quantidade:  30 | %:  17.6% | % Acumulada:  42.4%\n",
      "Felipe Santos   | Avaliação: 5   | Quantidade:  98 | %:  57.6% | % Acumulada:  100.0%\n",
      "\n",
      "Isabella Pereira | Avaliação: 1   | Quantidade:  16 | %:  11.1% | % Acumulada:  11.1%\n",
      "Isabella Pereira | Avaliação: 2   | Quantidade:   4 | %:   2.8% | % Acumulada:  13.9%\n",
      "Isabella Pereira | Avaliação: 3   | Quantidade:  15 | %:  10.4% | % Acumulada:  24.3%\n",
      "Isabella Pereira | Avaliação: 4   | Quantidade:  30 | %:  20.8% | % Acumulada:  45.1%\n",
      "Isabella Pereira | Avaliação: 5   | Quantidade:  79 | %:  54.9% | % Acumulada:  100.0%\n",
      "\n",
      "João Souza      | Avaliação: 1   | Quantidade:  21 | %:  12.9% | % Acumulada:  12.9%\n",
      "João Souza      | Avaliação: 2   | Quantidade:  13 | %:   8.0% | % Acumulada:  20.9%\n",
      "João Souza      | Avaliação: 3   | Quantidade:  16 | %:   9.8% | % Acumulada:  30.7%\n",
      "João Souza      | Avaliação: 4   | Quantidade:  32 | %:  19.6% | % Acumulada:  50.3%\n",
      "João Souza      | Avaliação: 5   | Quantidade:  81 | %:  49.7% | % Acumulada:  100.0%\n",
      "\n",
      "Juliana Costa   | Avaliação: 1   | Quantidade:  27 | %:  16.0% | % Acumulada:  16.0%\n",
      "Juliana Costa   | Avaliação: 2   | Quantidade:   4 | %:   2.4% | % Acumulada:  18.3%\n",
      "Juliana Costa   | Avaliação: 3   | Quantidade:   8 | %:   4.7% | % Acumulada:  23.1%\n",
      "Juliana Costa   | Avaliação: 4   | Quantidade:  36 | %:  21.3% | % Acumulada:  44.4%\n",
      "Juliana Costa   | Avaliação: 5   | Quantidade:  94 | %:  55.6% | % Acumulada:  100.0%\n",
      "\n",
      "Larissa Alves   | Avaliação: 1   | Quantidade:  26 | %:  15.0% | % Acumulada:  15.0%\n",
      "Larissa Alves   | Avaliação: 2   | Quantidade:   9 | %:   5.2% | % Acumulada:  20.2%\n",
      "Larissa Alves   | Avaliação: 3   | Quantidade:  17 | %:   9.8% | % Acumulada:  30.1%\n",
      "Larissa Alves   | Avaliação: 4   | Quantidade:  28 | %:  16.2% | % Acumulada:  46.2%\n",
      "Larissa Alves   | Avaliação: 5   | Quantidade:  93 | %:  53.8% | % Acumulada:  100.0%\n",
      "\n",
      "Lucas Oliveira  | Avaliação: 1   | Quantidade:  19 | %:  11.4% | % Acumulada:  11.4%\n",
      "Lucas Oliveira  | Avaliação: 2   | Quantidade:   8 | %:   4.8% | % Acumulada:  16.3%\n",
      "Lucas Oliveira  | Avaliação: 3   | Quantidade:  21 | %:  12.7% | % Acumulada:  28.9%\n",
      "Lucas Oliveira  | Avaliação: 4   | Quantidade:  35 | %:  21.1% | % Acumulada:  50.0%\n",
      "Lucas Oliveira  | Avaliação: 5   | Quantidade:  83 | %:  50.0% | % Acumulada:  100.0%\n",
      "\n",
      "Mariana Ferreira | Avaliação: 1   | Quantidade:  20 | %:  12.8% | % Acumulada:  12.8%\n",
      "Mariana Ferreira | Avaliação: 2   | Quantidade:   4 | %:   2.6% | % Acumulada:  15.4%\n",
      "Mariana Ferreira | Avaliação: 3   | Quantidade:  16 | %:  10.3% | % Acumulada:  25.6%\n",
      "Mariana Ferreira | Avaliação: 4   | Quantidade:  32 | %:  20.5% | % Acumulada:  46.2%\n",
      "Mariana Ferreira | Avaliação: 5   | Quantidade:  84 | %:  53.8% | % Acumulada:  100.0%\n",
      "\n",
      "Pedro Gomes     | Avaliação: 1   | Quantidade:  24 | %:  14.2% | % Acumulada:  14.2%\n",
      "Pedro Gomes     | Avaliação: 2   | Quantidade:   5 | %:   3.0% | % Acumulada:  17.2%\n",
      "Pedro Gomes     | Avaliação: 3   | Quantidade:  18 | %:  10.7% | % Acumulada:  27.8%\n",
      "Pedro Gomes     | Avaliação: 4   | Quantidade:  32 | %:  18.9% | % Acumulada:  46.7%\n",
      "Pedro Gomes     | Avaliação: 5   | Quantidade:  90 | %:  53.3% | % Acumulada:  100.0%\n",
      "\n",
      "Rafael Costa    | Avaliação: 1   | Quantidade:  22 | %:  12.9% | % Acumulada:  12.9%\n",
      "Rafael Costa    | Avaliação: 2   | Quantidade:   8 | %:   4.7% | % Acumulada:  17.5%\n",
      "Rafael Costa    | Avaliação: 3   | Quantidade:  16 | %:   9.4% | % Acumulada:  26.9%\n",
      "Rafael Costa    | Avaliação: 4   | Quantidade:  15 | %:   8.8% | % Acumulada:  35.7%\n",
      "Rafael Costa    | Avaliação: 5   | Quantidade: 110 | %:  64.3% | % Acumulada:  100.0%\n",
      "\n",
      "Thiago Silva    | Avaliação: 1   | Quantidade:  33 | %:  16.8% | % Acumulada:  16.8%\n",
      "Thiago Silva    | Avaliação: 2   | Quantidade:  12 | %:   6.1% | % Acumulada:  22.8%\n",
      "Thiago Silva    | Avaliação: 3   | Quantidade:  20 | %:  10.2% | % Acumulada:  33.0%\n",
      "Thiago Silva    | Avaliação: 4   | Quantidade:  38 | %:  19.3% | % Acumulada:  52.3%\n",
      "Thiago Silva    | Avaliação: 5   | Quantidade:  94 | %:  47.7% | % Acumulada:  100.0%\n",
      "\n",
      "----------------------------------------\n",
      "\n",
      "Loja: loja 2\n",
      "Beatriz Moraes  | Avaliação: 1   | Quantidade:  24 | %:  14.1% | % Acumulada:  14.1%\n",
      "Beatriz Moraes  | Avaliação: 2   | Quantidade:   6 | %:   3.5% | % Acumulada:  17.6%\n",
      "Beatriz Moraes  | Avaliação: 3   | Quantidade:  12 | %:   7.1% | % Acumulada:  24.7%\n",
      "Beatriz Moraes  | Avaliação: 4   | Quantidade:  41 | %:  24.1% | % Acumulada:  48.8%\n",
      "Beatriz Moraes  | Avaliação: 5   | Quantidade:  87 | %:  51.2% | % Acumulada:  100.0%\n",
      "\n",
      "Bianca Santos   | Avaliação: 1   | Quantidade:  21 | %:  12.7% | % Acumulada:  12.7%\n",
      "Bianca Santos   | Avaliação: 2   | Quantidade:  10 | %:   6.0% | % Acumulada:  18.7%\n",
      "Bianca Santos   | Avaliação: 3   | Quantidade:  17 | %:  10.2% | % Acumulada:  28.9%\n",
      "Bianca Santos   | Avaliação: 4   | Quantidade:  29 | %:  17.5% | % Acumulada:  46.4%\n",
      "Bianca Santos   | Avaliação: 5   | Quantidade:  89 | %:  53.6% | % Acumulada:  100.0%\n",
      "\n",
      "Bruno Rodrigues | Avaliação: 1   | Quantidade:  20 | %:  11.0% | % Acumulada:  11.0%\n",
      "Bruno Rodrigues | Avaliação: 2   | Quantidade:   7 | %:   3.8% | % Acumulada:  14.8%\n",
      "Bruno Rodrigues | Avaliação: 3   | Quantidade:  18 | %:   9.9% | % Acumulada:  24.7%\n",
      "Bruno Rodrigues | Avaliação: 4   | Quantidade:  33 | %:  18.1% | % Acumulada:  42.9%\n",
      "Bruno Rodrigues | Avaliação: 5   | Quantidade: 104 | %:  57.1% | % Acumulada:  100.0%\n",
      "\n",
      "Camila Ribeiro  | Avaliação: 1   | Quantidade:  15 | %:   9.3% | % Acumulada:   9.3%\n",
      "Camila Ribeiro  | Avaliação: 2   | Quantidade:   7 | %:   4.3% | % Acumulada:  13.7%\n",
      "Camila Ribeiro  | Avaliação: 3   | Quantidade:  15 | %:   9.3% | % Acumulada:  23.0%\n",
      "Camila Ribeiro  | Avaliação: 4   | Quantidade:  27 | %:  16.8% | % Acumulada:  39.8%\n",
      "Camila Ribeiro  | Avaliação: 5   | Quantidade:  97 | %:  60.2% | % Acumulada:  100.0%\n",
      "\n",
      "Felipe Santos   | Avaliação: 1   | Quantidade:  19 | %:  11.4% | % Acumulada:  11.4%\n",
      "Felipe Santos   | Avaliação: 2   | Quantidade:   6 | %:   3.6% | % Acumulada:  15.1%\n",
      "Felipe Santos   | Avaliação: 3   | Quantidade:  12 | %:   7.2% | % Acumulada:  22.3%\n",
      "Felipe Santos   | Avaliação: 4   | Quantidade:  29 | %:  17.5% | % Acumulada:  39.8%\n",
      "Felipe Santos   | Avaliação: 5   | Quantidade: 100 | %:  60.2% | % Acumulada:  100.0%\n",
      "\n",
      "Isabella Pereira | Avaliação: 1   | Quantidade:  22 | %:  13.7% | % Acumulada:  13.7%\n",
      "Isabella Pereira | Avaliação: 2   | Quantidade:   5 | %:   3.1% | % Acumulada:  16.8%\n",
      "Isabella Pereira | Avaliação: 3   | Quantidade:  13 | %:   8.1% | % Acumulada:  24.8%\n",
      "Isabella Pereira | Avaliação: 4   | Quantidade:  42 | %:  26.1% | % Acumulada:  50.9%\n",
      "Isabella Pereira | Avaliação: 5   | Quantidade:  79 | %:  49.1% | % Acumulada:  100.0%\n",
      "\n",
      "João Souza      | Avaliação: 1   | Quantidade:  16 | %:   9.8% | % Acumulada:   9.8%\n",
      "João Souza      | Avaliação: 2   | Quantidade:   6 | %:   3.7% | % Acumulada:  13.5%\n",
      "João Souza      | Avaliação: 3   | Quantidade:  19 | %:  11.7% | % Acumulada:  25.2%\n",
      "João Souza      | Avaliação: 4   | Quantidade:  34 | %:  20.9% | % Acumulada:  46.0%\n",
      "João Souza      | Avaliação: 5   | Quantidade:  88 | %:  54.0% | % Acumulada:  100.0%\n",
      "\n",
      "Juliana Costa   | Avaliação: 1   | Quantidade:  21 | %:  11.7% | % Acumulada:  11.7%\n",
      "Juliana Costa   | Avaliação: 2   | Quantidade:   9 | %:   5.0% | % Acumulada:  16.8%\n",
      "Juliana Costa   | Avaliação: 3   | Quantidade:  22 | %:  12.3% | % Acumulada:  29.1%\n",
      "Juliana Costa   | Avaliação: 4   | Quantidade:  35 | %:  19.6% | % Acumulada:  48.6%\n",
      "Juliana Costa   | Avaliação: 5   | Quantidade:  92 | %:  51.4% | % Acumulada:  100.0%\n",
      "\n",
      "Larissa Alves   | Avaliação: 1   | Quantidade:  17 | %:  10.0% | % Acumulada:  10.0%\n",
      "Larissa Alves   | Avaliação: 2   | Quantidade:   6 | %:   3.5% | % Acumulada:  13.5%\n",
      "Larissa Alves   | Avaliação: 3   | Quantidade:  15 | %:   8.8% | % Acumulada:  22.4%\n",
      "Larissa Alves   | Avaliação: 4   | Quantidade:  40 | %:  23.5% | % Acumulada:  45.9%\n",
      "Larissa Alves   | Avaliação: 5   | Quantidade:  92 | %:  54.1% | % Acumulada:  100.0%\n",
      "\n",
      "Lucas Oliveira  | Avaliação: 1   | Quantidade:  19 | %:  11.2% | % Acumulada:  11.2%\n",
      "Lucas Oliveira  | Avaliação: 2   | Quantidade:   7 | %:   4.1% | % Acumulada:  15.4%\n",
      "Lucas Oliveira  | Avaliação: 3   | Quantidade:  23 | %:  13.6% | % Acumulada:  29.0%\n",
      "Lucas Oliveira  | Avaliação: 4   | Quantidade:  35 | %:  20.7% | % Acumulada:  49.7%\n",
      "Lucas Oliveira  | Avaliação: 5   | Quantidade:  85 | %:  50.3% | % Acumulada:  100.0%\n",
      "\n",
      "Mariana Ferreira | Avaliação: 1   | Quantidade:  13 | %:   8.3% | % Acumulada:   8.3%\n",
      "Mariana Ferreira | Avaliação: 2   | Quantidade:   6 | %:   3.8% | % Acumulada:  12.1%\n",
      "Mariana Ferreira | Avaliação: 3   | Quantidade:  11 | %:   7.0% | % Acumulada:  19.1%\n",
      "Mariana Ferreira | Avaliação: 4   | Quantidade:  35 | %:  22.3% | % Acumulada:  41.4%\n",
      "Mariana Ferreira | Avaliação: 5   | Quantidade:  92 | %:  58.6% | % Acumulada:  100.0%\n",
      "\n",
      "Pedro Gomes     | Avaliação: 1   | Quantidade:  18 | %:  10.5% | % Acumulada:  10.5%\n",
      "Pedro Gomes     | Avaliação: 2   | Quantidade:   5 | %:   2.9% | % Acumulada:  13.4%\n",
      "Pedro Gomes     | Avaliação: 3   | Quantidade:  11 | %:   6.4% | % Acumulada:  19.9%\n",
      "Pedro Gomes     | Avaliação: 4   | Quantidade:  33 | %:  19.3% | % Acumulada:  39.2%\n",
      "Pedro Gomes     | Avaliação: 5   | Quantidade: 104 | %:  60.8% | % Acumulada:  100.0%\n",
      "\n",
      "Rafael Costa    | Avaliação: 1   | Quantidade:  21 | %:  14.1% | % Acumulada:  14.1%\n",
      "Rafael Costa    | Avaliação: 2   | Quantidade:   3 | %:   2.0% | % Acumulada:  16.1%\n",
      "Rafael Costa    | Avaliação: 3   | Quantidade:  12 | %:   8.1% | % Acumulada:  24.2%\n",
      "Rafael Costa    | Avaliação: 4   | Quantidade:  30 | %:  20.1% | % Acumulada:  44.3%\n",
      "Rafael Costa    | Avaliação: 5   | Quantidade:  83 | %:  55.7% | % Acumulada:  100.0%\n",
      "\n",
      "Thiago Silva    | Avaliação: 1   | Quantidade:  27 | %:  13.8% | % Acumulada:  13.8%\n",
      "Thiago Silva    | Avaliação: 2   | Quantidade:  10 | %:   5.1% | % Acumulada:  19.0%\n",
      "Thiago Silva    | Avaliação: 3   | Quantidade:   9 | %:   4.6% | % Acumulada:  23.6%\n",
      "Thiago Silva    | Avaliação: 4   | Quantidade:  39 | %:  20.0% | % Acumulada:  43.6%\n",
      "Thiago Silva    | Avaliação: 5   | Quantidade: 110 | %:  56.4% | % Acumulada:  100.0%\n",
      "\n",
      "----------------------------------------\n",
      "\n",
      "Loja: loja 3\n",
      "Beatriz Moraes  | Avaliação: 1   | Quantidade:  15 | %:   9.5% | % Acumulada:   9.5%\n",
      "Beatriz Moraes  | Avaliação: 2   | Quantidade:   4 | %:   2.5% | % Acumulada:  12.0%\n",
      "Beatriz Moraes  | Avaliação: 3   | Quantidade:  12 | %:   7.6% | % Acumulada:  19.6%\n",
      "Beatriz Moraes  | Avaliação: 4   | Quantidade:  29 | %:  18.4% | % Acumulada:  38.0%\n",
      "Beatriz Moraes  | Avaliação: 5   | Quantidade:  98 | %:  62.0% | % Acumulada:  100.0%\n",
      "\n",
      "Bianca Santos   | Avaliação: 1   | Quantidade:  26 | %:  16.0% | % Acumulada:  16.0%\n",
      "Bianca Santos   | Avaliação: 2   | Quantidade:   4 | %:   2.5% | % Acumulada:  18.4%\n",
      "Bianca Santos   | Avaliação: 3   | Quantidade:  11 | %:   6.7% | % Acumulada:  25.2%\n",
      "Bianca Santos   | Avaliação: 4   | Quantidade:  29 | %:  17.8% | % Acumulada:  42.9%\n",
      "Bianca Santos   | Avaliação: 5   | Quantidade:  93 | %:  57.1% | % Acumulada:  100.0%\n",
      "\n",
      "Bruno Rodrigues | Avaliação: 1   | Quantidade:  18 | %:  10.5% | % Acumulada:  10.5%\n",
      "Bruno Rodrigues | Avaliação: 2   | Quantidade:   4 | %:   2.3% | % Acumulada:  12.9%\n",
      "Bruno Rodrigues | Avaliação: 3   | Quantidade:  14 | %:   8.2% | % Acumulada:  21.1%\n",
      "Bruno Rodrigues | Avaliação: 4   | Quantidade:  28 | %:  16.4% | % Acumulada:  37.4%\n",
      "Bruno Rodrigues | Avaliação: 5   | Quantidade: 107 | %:  62.6% | % Acumulada:  100.0%\n",
      "\n",
      "Camila Ribeiro  | Avaliação: 1   | Quantidade:  20 | %:  11.6% | % Acumulada:  11.6%\n",
      "Camila Ribeiro  | Avaliação: 2   | Quantidade:   3 | %:   1.7% | % Acumulada:  13.3%\n",
      "Camila Ribeiro  | Avaliação: 3   | Quantidade:  15 | %:   8.7% | % Acumulada:  22.0%\n",
      "Camila Ribeiro  | Avaliação: 4   | Quantidade:  32 | %:  18.5% | % Acumulada:  40.5%\n",
      "Camila Ribeiro  | Avaliação: 5   | Quantidade: 103 | %:  59.5% | % Acumulada:  100.0%\n",
      "\n",
      "Felipe Santos   | Avaliação: 1   | Quantidade:  18 | %:  10.7% | % Acumulada:  10.7%\n",
      "Felipe Santos   | Avaliação: 2   | Quantidade:   8 | %:   4.7% | % Acumulada:  15.4%\n",
      "Felipe Santos   | Avaliação: 3   | Quantidade:  12 | %:   7.1% | % Acumulada:  22.5%\n",
      "Felipe Santos   | Avaliação: 4   | Quantidade:  25 | %:  14.8% | % Acumulada:  37.3%\n",
      "Felipe Santos   | Avaliação: 5   | Quantidade: 106 | %:  62.7% | % Acumulada:  100.0%\n",
      "\n",
      "Isabella Pereira | Avaliação: 1   | Quantidade:  20 | %:  11.7% | % Acumulada:  11.7%\n",
      "Isabella Pereira | Avaliação: 2   | Quantidade:  12 | %:   7.0% | % Acumulada:  18.7%\n",
      "Isabella Pereira | Avaliação: 3   | Quantidade:  15 | %:   8.8% | % Acumulada:  27.5%\n",
      "Isabella Pereira | Avaliação: 4   | Quantidade:  31 | %:  18.1% | % Acumulada:  45.6%\n",
      "Isabella Pereira | Avaliação: 5   | Quantidade:  93 | %:  54.4% | % Acumulada:  100.0%\n",
      "\n",
      "João Souza      | Avaliação: 1   | Quantidade:  19 | %:  10.3% | % Acumulada:  10.3%\n",
      "João Souza      | Avaliação: 2   | Quantidade:   7 | %:   3.8% | % Acumulada:  14.1%\n",
      "João Souza      | Avaliação: 3   | Quantidade:  11 | %:   6.0% | % Acumulada:  20.1%\n",
      "João Souza      | Avaliação: 4   | Quantidade:  32 | %:  17.4% | % Acumulada:  37.5%\n",
      "João Souza      | Avaliação: 5   | Quantidade: 115 | %:  62.5% | % Acumulada:  100.0%\n",
      "\n",
      "Juliana Costa   | Avaliação: 1   | Quantidade:  30 | %:  18.2% | % Acumulada:  18.2%\n",
      "Juliana Costa   | Avaliação: 2   | Quantidade:   5 | %:   3.0% | % Acumulada:  21.2%\n",
      "Juliana Costa   | Avaliação: 3   | Quantidade:  14 | %:   8.5% | % Acumulada:  29.7%\n",
      "Juliana Costa   | Avaliação: 4   | Quantidade:  34 | %:  20.6% | % Acumulada:  50.3%\n",
      "Juliana Costa   | Avaliação: 5   | Quantidade:  82 | %:  49.7% | % Acumulada:  100.0%\n",
      "\n",
      "Larissa Alves   | Avaliação: 1   | Quantidade:  24 | %:  12.9% | % Acumulada:  12.9%\n",
      "Larissa Alves   | Avaliação: 2   | Quantidade:   5 | %:   2.7% | % Acumulada:  15.6%\n",
      "Larissa Alves   | Avaliação: 3   | Quantidade:  25 | %:  13.4% | % Acumulada:  29.0%\n",
      "Larissa Alves   | Avaliação: 4   | Quantidade:  34 | %:  18.3% | % Acumulada:  47.3%\n",
      "Larissa Alves   | Avaliação: 5   | Quantidade:  98 | %:  52.7% | % Acumulada:  100.0%\n",
      "\n",
      "Lucas Oliveira  | Avaliação: 1   | Quantidade:  24 | %:  14.5% | % Acumulada:  14.5%\n",
      "Lucas Oliveira  | Avaliação: 2   | Quantidade:   5 | %:   3.0% | % Acumulada:  17.5%\n",
      "Lucas Oliveira  | Avaliação: 3   | Quantidade:  10 | %:   6.0% | % Acumulada:  23.5%\n",
      "Lucas Oliveira  | Avaliação: 4   | Quantidade:  32 | %:  19.3% | % Acumulada:  42.8%\n",
      "Lucas Oliveira  | Avaliação: 5   | Quantidade:  95 | %:  57.2% | % Acumulada:  100.0%\n",
      "\n",
      "Mariana Ferreira | Avaliação: 1   | Quantidade:  21 | %:  13.1% | % Acumulada:  13.1%\n",
      "Mariana Ferreira | Avaliação: 2   | Quantidade:   5 | %:   3.1% | % Acumulada:  16.2%\n",
      "Mariana Ferreira | Avaliação: 3   | Quantidade:  10 | %:   6.2% | % Acumulada:  22.5%\n",
      "Mariana Ferreira | Avaliação: 4   | Quantidade:  32 | %:  20.0% | % Acumulada:  42.5%\n",
      "Mariana Ferreira | Avaliação: 5   | Quantidade:  92 | %:  57.5% | % Acumulada:  100.0%\n",
      "\n",
      "Pedro Gomes     | Avaliação: 1   | Quantidade:  15 | %:   9.3% | % Acumulada:   9.3%\n",
      "Pedro Gomes     | Avaliação: 2   | Quantidade:   7 | %:   4.3% | % Acumulada:  13.7%\n",
      "Pedro Gomes     | Avaliação: 3   | Quantidade:   8 | %:   5.0% | % Acumulada:  18.6%\n",
      "Pedro Gomes     | Avaliação: 4   | Quantidade:  34 | %:  21.1% | % Acumulada:  39.8%\n",
      "Pedro Gomes     | Avaliação: 5   | Quantidade:  97 | %:  60.2% | % Acumulada:  100.0%\n",
      "\n",
      "Rafael Costa    | Avaliação: 1   | Quantidade:  17 | %:  10.6% | % Acumulada:  10.6%\n",
      "Rafael Costa    | Avaliação: 2   | Quantidade:   4 | %:   2.5% | % Acumulada:  13.0%\n",
      "Rafael Costa    | Avaliação: 3   | Quantidade:  13 | %:   8.1% | % Acumulada:  21.1%\n",
      "Rafael Costa    | Avaliação: 4   | Quantidade:  29 | %:  18.0% | % Acumulada:  39.1%\n",
      "Rafael Costa    | Avaliação: 5   | Quantidade:  98 | %:  60.9% | % Acumulada:  100.0%\n",
      "\n",
      "Thiago Silva    | Avaliação: 1   | Quantidade:  30 | %:  17.5% | % Acumulada:  17.5%\n",
      "Thiago Silva    | Avaliação: 2   | Quantidade:   6 | %:   3.5% | % Acumulada:  21.1%\n",
      "Thiago Silva    | Avaliação: 3   | Quantidade:  23 | %:  13.4% | % Acumulada:  34.5%\n",
      "Thiago Silva    | Avaliação: 4   | Quantidade:  33 | %:  19.3% | % Acumulada:  53.8%\n",
      "Thiago Silva    | Avaliação: 5   | Quantidade:  79 | %:  46.2% | % Acumulada:  100.0%\n",
      "\n",
      "----------------------------------------\n",
      "\n",
      "Loja: loja 4\n",
      "Beatriz Moraes  | Avaliação: 1   | Quantidade:  21 | %:  13.4% | % Acumulada:  13.4%\n",
      "Beatriz Moraes  | Avaliação: 2   | Quantidade:   7 | %:   4.5% | % Acumulada:  17.8%\n",
      "Beatriz Moraes  | Avaliação: 3   | Quantidade:  10 | %:   6.4% | % Acumulada:  24.2%\n",
      "Beatriz Moraes  | Avaliação: 4   | Quantidade:  29 | %:  18.5% | % Acumulada:  42.7%\n",
      "Beatriz Moraes  | Avaliação: 5   | Quantidade:  90 | %:  57.3% | % Acumulada:  100.0%\n",
      "\n",
      "Bianca Santos   | Avaliação: 1   | Quantidade:  27 | %:  15.9% | % Acumulada:  15.9%\n",
      "Bianca Santos   | Avaliação: 2   | Quantidade:   4 | %:   2.4% | % Acumulada:  18.2%\n",
      "Bianca Santos   | Avaliação: 3   | Quantidade:   6 | %:   3.5% | % Acumulada:  21.8%\n",
      "Bianca Santos   | Avaliação: 4   | Quantidade:  25 | %:  14.7% | % Acumulada:  36.5%\n",
      "Bianca Santos   | Avaliação: 5   | Quantidade: 108 | %:  63.5% | % Acumulada:  100.0%\n",
      "\n",
      "Bruno Rodrigues | Avaliação: 1   | Quantidade:  21 | %:  13.0% | % Acumulada:  13.0%\n",
      "Bruno Rodrigues | Avaliação: 2   | Quantidade:   8 | %:   4.9% | % Acumulada:  17.9%\n",
      "Bruno Rodrigues | Avaliação: 3   | Quantidade:  11 | %:   6.8% | % Acumulada:  24.7%\n",
      "Bruno Rodrigues | Avaliação: 4   | Quantidade:  25 | %:  15.4% | % Acumulada:  40.1%\n",
      "Bruno Rodrigues | Avaliação: 5   | Quantidade:  97 | %:  59.9% | % Acumulada:  100.0%\n",
      "\n",
      "Camila Ribeiro  | Avaliação: 1   | Quantidade:  22 | %:  13.3% | % Acumulada:  13.3%\n",
      "Camila Ribeiro  | Avaliação: 2   | Quantidade:   5 | %:   3.0% | % Acumulada:  16.3%\n",
      "Camila Ribeiro  | Avaliação: 3   | Quantidade:  22 | %:  13.3% | % Acumulada:  29.5%\n",
      "Camila Ribeiro  | Avaliação: 4   | Quantidade:  33 | %:  19.9% | % Acumulada:  49.4%\n",
      "Camila Ribeiro  | Avaliação: 5   | Quantidade:  84 | %:  50.6% | % Acumulada:  100.0%\n",
      "\n",
      "Felipe Santos   | Avaliação: 1   | Quantidade:  24 | %:  12.2% | % Acumulada:  12.2%\n",
      "Felipe Santos   | Avaliação: 2   | Quantidade:   6 | %:   3.1% | % Acumulada:  15.3%\n",
      "Felipe Santos   | Avaliação: 3   | Quantidade:  17 | %:   8.7% | % Acumulada:  24.0%\n",
      "Felipe Santos   | Avaliação: 4   | Quantidade:  45 | %:  23.0% | % Acumulada:  46.9%\n",
      "Felipe Santos   | Avaliação: 5   | Quantidade: 104 | %:  53.1% | % Acumulada:  100.0%\n",
      "\n",
      "Isabella Pereira | Avaliação: 1   | Quantidade:  16 | %:   9.2% | % Acumulada:   9.2%\n",
      "Isabella Pereira | Avaliação: 2   | Quantidade:   6 | %:   3.4% | % Acumulada:  12.6%\n",
      "Isabella Pereira | Avaliação: 3   | Quantidade:  13 | %:   7.5% | % Acumulada:  20.1%\n",
      "Isabella Pereira | Avaliação: 4   | Quantidade:  38 | %:  21.8% | % Acumulada:  42.0%\n",
      "Isabella Pereira | Avaliação: 5   | Quantidade: 101 | %:  58.0% | % Acumulada:  100.0%\n",
      "\n",
      "João Souza      | Avaliação: 1   | Quantidade:  23 | %:  12.5% | % Acumulada:  12.5%\n",
      "João Souza      | Avaliação: 2   | Quantidade:   6 | %:   3.3% | % Acumulada:  15.8%\n",
      "João Souza      | Avaliação: 3   | Quantidade:  19 | %:  10.3% | % Acumulada:  26.1%\n",
      "João Souza      | Avaliação: 4   | Quantidade:  31 | %:  16.8% | % Acumulada:  42.9%\n",
      "João Souza      | Avaliação: 5   | Quantidade: 105 | %:  57.1% | % Acumulada:  100.0%\n",
      "\n",
      "Juliana Costa   | Avaliação: 1   | Quantidade:  25 | %:  15.2% | % Acumulada:  15.2%\n",
      "Juliana Costa   | Avaliação: 2   | Quantidade:   6 | %:   3.7% | % Acumulada:  18.9%\n",
      "Juliana Costa   | Avaliação: 3   | Quantidade:  15 | %:   9.1% | % Acumulada:  28.0%\n",
      "Juliana Costa   | Avaliação: 4   | Quantidade:  25 | %:  15.2% | % Acumulada:  43.3%\n",
      "Juliana Costa   | Avaliação: 5   | Quantidade:  93 | %:  56.7% | % Acumulada:  100.0%\n",
      "\n",
      "Larissa Alves   | Avaliação: 1   | Quantidade:  25 | %:  16.7% | % Acumulada:  16.7%\n",
      "Larissa Alves   | Avaliação: 2   | Quantidade:   4 | %:   2.7% | % Acumulada:  19.3%\n",
      "Larissa Alves   | Avaliação: 3   | Quantidade:  12 | %:   8.0% | % Acumulada:  27.3%\n",
      "Larissa Alves   | Avaliação: 4   | Quantidade:  28 | %:  18.7% | % Acumulada:  46.0%\n",
      "Larissa Alves   | Avaliação: 5   | Quantidade:  81 | %:  54.0% | % Acumulada:  100.0%\n",
      "\n",
      "Lucas Oliveira  | Avaliação: 1   | Quantidade:  26 | %:  15.0% | % Acumulada:  15.0%\n",
      "Lucas Oliveira  | Avaliação: 2   | Quantidade:   2 | %:   1.2% | % Acumulada:  16.2%\n",
      "Lucas Oliveira  | Avaliação: 3   | Quantidade:  18 | %:  10.4% | % Acumulada:  26.6%\n",
      "Lucas Oliveira  | Avaliação: 4   | Quantidade:  35 | %:  20.2% | % Acumulada:  46.8%\n",
      "Lucas Oliveira  | Avaliação: 5   | Quantidade:  92 | %:  53.2% | % Acumulada:  100.0%\n",
      "\n",
      "Mariana Ferreira | Avaliação: 1   | Quantidade:  18 | %:   9.8% | % Acumulada:   9.8%\n",
      "Mariana Ferreira | Avaliação: 2   | Quantidade:   6 | %:   3.3% | % Acumulada:  13.1%\n",
      "Mariana Ferreira | Avaliação: 3   | Quantidade:  24 | %:  13.1% | % Acumulada:  26.2%\n",
      "Mariana Ferreira | Avaliação: 4   | Quantidade:  37 | %:  20.2% | % Acumulada:  46.4%\n",
      "Mariana Ferreira | Avaliação: 5   | Quantidade:  98 | %:  53.6% | % Acumulada:  100.0%\n",
      "\n",
      "Pedro Gomes     | Avaliação: 1   | Quantidade:  23 | %:  14.9% | % Acumulada:  14.9%\n",
      "Pedro Gomes     | Avaliação: 2   | Quantidade:  11 | %:   7.1% | % Acumulada:  22.1%\n",
      "Pedro Gomes     | Avaliação: 3   | Quantidade:   9 | %:   5.8% | % Acumulada:  27.9%\n",
      "Pedro Gomes     | Avaliação: 4   | Quantidade:  33 | %:  21.4% | % Acumulada:  49.4%\n",
      "Pedro Gomes     | Avaliação: 5   | Quantidade:  78 | %:  50.6% | % Acumulada:  100.0%\n",
      "\n",
      "Rafael Costa    | Avaliação: 1   | Quantidade:  15 | %:  10.4% | % Acumulada:  10.4%\n",
      "Rafael Costa    | Avaliação: 2   | Quantidade:   5 | %:   3.5% | % Acumulada:  13.9%\n",
      "Rafael Costa    | Avaliação: 3   | Quantidade:  20 | %:  13.9% | % Acumulada:  27.8%\n",
      "Rafael Costa    | Avaliação: 4   | Quantidade:  29 | %:  20.1% | % Acumulada:  47.9%\n",
      "Rafael Costa    | Avaliação: 5   | Quantidade:  75 | %:  52.1% | % Acumulada:  100.0%\n",
      "\n",
      "Thiago Silva    | Avaliação: 1   | Quantidade:  24 | %:  13.3% | % Acumulada:  13.3%\n",
      "Thiago Silva    | Avaliação: 2   | Quantidade:   9 | %:   5.0% | % Acumulada:  18.2%\n",
      "Thiago Silva    | Avaliação: 3   | Quantidade:  14 | %:   7.7% | % Acumulada:  26.0%\n",
      "Thiago Silva    | Avaliação: 4   | Quantidade:  40 | %:  22.1% | % Acumulada:  48.1%\n",
      "Thiago Silva    | Avaliação: 5   | Quantidade:  94 | %:  51.9% | % Acumulada:  100.0%\n"
     ]
    }
   ],
   "source": [
    "#Agrupamento inicial\n",
    "avaliacoes_por_vendedor_loja =( lojas_juntas\n",
    "                              .groupby([\"Vendedor\", \"loja\", \"Avaliação da compra\"])\n",
    "                              .size()\n",
    "                              .reset_index(name = \"Quantidade\")\n",
    "                              .sort_values(by = [\"loja\", \"Vendedor\", \"Avaliação da compra\"])\n",
    ")\n",
    "\n",
    "#Calcular total de avaliações por loja\n",
    "totais = (\n",
    "    avaliacoes_por_vendedor_loja\n",
    "    .groupby([\"Vendedor\", \"loja\"])[\"Quantidade\"]\n",
    "    .sum()\n",
    "    .reset_index(name = \"Total_Avaliações\")\n",
    ")\n",
    "\n",
    "#mescla com o total\n",
    "avaliacoes_por_vendedor_loja = pd.merge(\n",
    "    avaliacoes_por_vendedor_loja, totais, on = [\"Vendedor\", \"loja\"]\n",
    ")\n",
    "\n",
    "#Calcula a % da avaliação\n",
    "\n",
    "avaliacoes_por_vendedor_loja[\"% Avaliação\"] = (\n",
    "    (avaliacoes_por_vendedor_loja[\"Quantidade\"] / avaliacoes_por_vendedor_loja[\"Total_Avaliações\"])* 100\n",
    ").round(3)\n",
    "\n",
    "#Cálculo da %acumulada\n",
    "\n",
    "avaliacoes_por_vendedor_loja[\"% Acumulada\"] = (\n",
    "    avaliacoes_por_vendedor_loja\n",
    "    .sort_values(by= [\"loja\", \"Vendedor\", \"Avaliação da compra\"])\n",
    "    .groupby([\"loja\", \"Vendedor\"])[\"% Avaliação\"]\n",
    "    .cumsum()\n",
    "\n",
    ")\n",
    "\n",
    "loja_anterior = None\n",
    "vendedor_anterior = None\n",
    "\n",
    "for _, row in avaliacoes_por_vendedor_loja.iterrows():\n",
    "  loja = row[\"loja\"]\n",
    "  vendedor = row[\"Vendedor\"]\n",
    "\n",
    "  if loja != loja_anterior:\n",
    "    if loja_anterior is not None:\n",
    "      print(\"\\n\" + \"-\" * 40 + \"\\n\")\n",
    "    print(f\"Loja: {loja}\")\n",
    "    loja_anterior = loja\n",
    "    vendedor_anterior = None\n",
    "\n",
    "  if vendedor != vendedor_anterior:\n",
    "    if vendedor_anterior is not None:\n",
    "      print()\n",
    "    vendedor_anterior = vendedor\n",
    "\n",
    "\n",
    "\n",
    "  print(f\"{row['Vendedor'].ljust(15)} | Avaliação: {str(row['Avaliação da compra']).ljust(3)}\"\n",
    "        f\" | Quantidade: {row['Quantidade'] :>3}\"\n",
    "        f\" | %: {row['% Avaliação'] :>5.1f}%\"\n",
    "        f\" | % Acumulada: {row['% Acumulada'] :> 5.1f}%\")\n"
   ]
  },
  {
   "cell_type": "code",
   "execution_count": 24,
   "metadata": {
    "colab": {
     "base_uri": "https://localhost:8080/",
     "height": 329
    },
    "id": "pVS_kJMdnI3b",
    "outputId": "a48aa39a-02ab-4d8e-9055-06a2c9f8e876"
   },
   "outputs": [
    {
     "data": {
      "image/png": "[encoded data removed]",
      "text/plain": [
       "<Figure size 1200x600 with 1 Axes>"
      ]
     },
     "metadata": {},
     "output_type": "display_data"
    }
   ],
   "source": [
    "\n",
    "# Primeiro, pivoteia para calcular porcentagens\n",
    "df_total = avaliacoes_por_vendedor_loja.groupby([\"loja\", \"Vendedor\"])[\"Quantidade\"].sum().reset_index(name=\"Total\")\n",
    "df_merge = pd.merge(avaliacoes_por_vendedor_loja, df_total, on=[\"loja\", \"Vendedor\"])\n",
    "df_merge[\"Porcentagem\"] = (df_merge[\"Quantidade\"] / df_merge[\"Total\"]) * 100\n",
    "\n",
    "# Cria uma coluna combinando loja e vendedor para facilitar o gráfico\n",
    "df_merge[\"Loja_Vendedor\"] = df_merge[\"loja\"] + \" - \" + df_merge[\"Vendedor\"]\n",
    "\n",
    "# Pivot para criar formato de tabela com notas como colunas\n",
    "df_pivot = df_merge.pivot_table(index=\"Loja_Vendedor\",\n",
    "                                 columns=\"Avaliação da compra\",\n",
    "                                 values=\"Porcentagem\",\n",
    "                                 fill_value=0)\n",
    "\n",
    "# Ordenar colunas numericamente (caso as notas estejam fora de ordem)\n",
    "df_pivot = df_pivot[sorted(df_pivot.columns)]\n",
    "\n",
    "# Plotando\n",
    "df_pivot.plot(kind='bar', stacked=True, figsize=(12, 6), colormap='viridis')\n",
    "plt.title(\"Distribuição percentual de notas por vendedor em cada loja\")\n",
    "plt.ylabel(\"Porcentagem (%)\")\n",
    "plt.xlabel(\"Loja - Vendedor\")\n",
    "plt.legend(title=\"Nota\")\n",
    "plt.tight_layout()\n",
    "plt.show()\n"
   ]
  },
  {
   "cell_type": "markdown",
   "metadata": {
    "id": "DmNp1KPBZCm-"
   },
   "source": [
    "# 4. Produtos Mais e Menos Vendidos"
   ]
  },
  {
   "cell_type": "code",
   "execution_count": 25,
   "metadata": {
    "colab": {
     "base_uri": "https://localhost:8080/",
     "height": 429
    },
    "id": "qoyjqijQZHfF",
    "outputId": "a2e47401-9798-4b47-f899-377c5449bc28"
   },
   "outputs": [
    {
     "data": {
      "text/plain": [
       "Produto\n",
       "Cômoda                      210\n",
       "Micro-ondas                 206\n",
       "Carrinho controle remoto    206\n",
       "Bateria                     203\n",
       "Cama king                   201\n",
       "Jogo de panelas             200\n",
       "Secadora de roupas          200\n",
       "Modelagem preditiva         200\n",
       "Cama box                    199\n",
       "Blocos de montar            199\n",
       "Name: count, dtype: int64"
      ]
     },
     "execution_count": 25,
     "metadata": {},
     "output_type": "execute_result"
    }
   ],
   "source": [
    "#Top 10 Produtos mais vendidos do Grupo(4 lojas somadas)\n",
    "lojas_juntas[\"Produto\"].value_counts().head(10)\n"
   ]
  },
  {
   "cell_type": "code",
   "execution_count": 26,
   "metadata": {
    "colab": {
     "base_uri": "https://localhost:8080/",
     "height": 429
    },
    "id": "0Sw3sd4IZIGW",
    "outputId": "c959d379-b781-4605-cbca-901f66018d54"
   },
   "outputs": [
    {
     "data": {
      "text/plain": [
       "Produto\n",
       "Smartwatch                     172\n",
       "Panela de pressão              172\n",
       "Jogo de copos                  169\n",
       "Poltrona                       168\n",
       "Assistente virtual             167\n",
       "Ciência de dados com python    166\n",
       "Guitarra                       165\n",
       "Mochila                        163\n",
       "Headset                        158\n",
       "Celular ABXY                   157\n",
       "Name: count, dtype: int64"
      ]
     },
     "execution_count": 26,
     "metadata": {},
     "output_type": "execute_result"
    }
   ],
   "source": [
    "#Top 10 Produtos menos vendidos do Grupo(4 lojas somadas)\n",
    "lojas_juntas[\"Produto\"].value_counts().tail(10)"
   ]
  },
  {
   "cell_type": "code",
   "execution_count": 27,
   "metadata": {
    "colab": {
     "base_uri": "https://localhost:8080/",
     "height": 486
    },
    "id": "3i3GVq-jreqc",
    "outputId": "31f60f6e-7fbb-4a78-9074-0bf4c4e06f6b"
   },
   "outputs": [
    {
     "data": {
      "image/png": "[encoded data removed]",
      "text/plain": [
       "<Figure size 640x480 with 1 Axes>"
      ]
     },
     "metadata": {},
     "output_type": "display_data"
    }
   ],
   "source": [
    "produto_counts = lojas_juntas[\"Produto\"].value_counts()\n",
    "\n",
    "produto_counts.plot(kind = \"bar\", color = \"blue\")\n",
    "\n",
    "plt.title(\"Quantidade de Produtos Vendidos\", fontsize = 16)\n",
    "plt.xlabel(\"Produto\", fontsize = 12)\n",
    "plt.ylabel(\"Quantidade Vendida\", fontsize = 12)\n",
    "\n",
    "plt.xticks(rotation = 90, ha = \"right\")\n",
    "plt.tight_layout()\n",
    "plt.show()"
   ]
  },
  {
   "cell_type": "code",
   "execution_count": 28,
   "metadata": {
    "id": "n04GOGBquHcN"
   },
   "outputs": [],
   "source": [
    "preco_medio_produto = lojas_juntas.groupby(\"Produto\")[\"Preço\"].mean().reset_index()\n",
    "preco_medio_produto = preco_medio_produto.set_index(\"Produto\") [\"Preço\"]\n",
    "preco_medio_produto = preco_medio_produto.round(2)\n",
    "\n",
    "produto_counts = produto_counts.reindex(preco_medio_produto.index, fill_value=0)\n",
    "\n",
    "def faturamento_por_produto ():\n",
    "  produto_faturado = produto_counts * preco_medio_produto\n",
    "  return produto_faturado\n",
    "\n",
    "faturamento_produto = faturamento_por_produto()\n"
   ]
  },
  {
   "cell_type": "code",
   "execution_count": 29,
   "metadata": {
    "colab": {
     "base_uri": "https://localhost:8080/"
    },
    "id": "i3AS4xq8wovr",
    "outputId": "8dfbd1ee-eff4-41d0-d8b5-034fde99df01"
   },
   "outputs": [
    {
     "name": "stdout",
     "output_type": "stream",
     "text": [
      "                                                 Produto  Quantidade Vendida  \\\n",
      "Produto                                                                        \n",
      "Cômoda                                            Cômoda                 210   \n",
      "Carrinho controle remoto        Carrinho controle remoto                 206   \n",
      "Micro-ondas                                  Micro-ondas                 206   \n",
      "Bateria                                          Bateria                 203   \n",
      "Cama king                                      Cama king                 201   \n",
      "Modelagem preditiva                  Modelagem preditiva                 200   \n",
      "Jogo de panelas                          Jogo de panelas                 200   \n",
      "Secadora de roupas                    Secadora de roupas                 200   \n",
      "Blocos de montar                        Blocos de montar                 199   \n",
      "Cama box                                        Cama box                 199   \n",
      "Celular Plus X42                        Celular Plus X42                 198   \n",
      "Bola de basquete                        Bola de basquete                 197   \n",
      "Pandeiro                                        Pandeiro                 197   \n",
      "Guarda roupas                              Guarda roupas                 197   \n",
      "Bicicleta                                      Bicicleta                 196   \n",
      "Iniciando em programação        Iniciando em programação                 195   \n",
      "Smart TV                                        Smart TV                 192   \n",
      "Geladeira                                      Geladeira                 191   \n",
      "Faqueiro                                        Faqueiro                 189   \n",
      "Lava louças                                  Lava louças                 189   \n",
      "Kit banquetas                              Kit banquetas                 188   \n",
      "Violão                                            Violão                 188   \n",
      "Impressora                                    Impressora                 188   \n",
      "Fogão                                              Fogão                 187   \n",
      "Copo térmico                                Copo térmico                 187   \n",
      "TV Led UHD 4K                              TV Led UHD 4K                 187   \n",
      "Corda de pular                            Corda de pular                 186   \n",
      "Mesa de jantar                            Mesa de jantar                 185   \n",
      "Bola de vôlei                              Bola de vôlei                 184   \n",
      "Sofá retrátil                              Sofá retrátil                 182   \n",
      "Dashboards com Power BI          Dashboards com Power BI                 181   \n",
      "Cadeira de escritório              Cadeira de escritório                 181   \n",
      "Xadrez de madeira                      Xadrez de madeira                 180   \n",
      "Cubo mágico 8x8                          Cubo mágico 8x8                 180   \n",
      "Tablet ABXY                                  Tablet ABXY                 179   \n",
      "Lavadora de roupas                    Lavadora de roupas                 176   \n",
      "Jogo de tabuleiro                      Jogo de tabuleiro                 175   \n",
      "Mesa de centro                            Mesa de centro                 175   \n",
      "Dinossauro Rex                            Dinossauro Rex                 175   \n",
      "Boneca bebê                                  Boneca bebê                 175   \n",
      "Fone de ouvido                            Fone de ouvido                 174   \n",
      "Smartwatch                                    Smartwatch                 172   \n",
      "Panela de pressão                      Panela de pressão                 172   \n",
      "Jogo de copos                              Jogo de copos                 169   \n",
      "Poltrona                                        Poltrona                 168   \n",
      "Assistente virtual                    Assistente virtual                 167   \n",
      "Ciência de dados com python  Ciência de dados com python                 166   \n",
      "Guitarra                                        Guitarra                 165   \n",
      "Mochila                                          Mochila                 163   \n",
      "Headset                                          Headset                 158   \n",
      "Celular ABXY                                Celular ABXY                 157   \n",
      "\n",
      "                            Preço Médio(R$) Faturamento(R$) % do Faturamento  \n",
      "Produto                                                                       \n",
      "Cômoda                             R$370,92     R$77.893,20           1.327%  \n",
      "Carrinho controle remoto            R$95,59     R$19.691,54           0.335%  \n",
      "Micro-ondas                        R$748,87    R$154.267,22           2.627%  \n",
      "Bateria                            R$970,81    R$197.074,43           3.356%  \n",
      "Cama king                          R$900,70    R$181.040,70           3.083%  \n",
      "Modelagem preditiva                 R$84,10     R$16.820,00           0.286%  \n",
      "Jogo de panelas                    R$203,38     R$40.676,00           0.693%  \n",
      "Secadora de roupas               R$1.401,59    R$280.318,00           4.774%  \n",
      "Blocos de montar                    R$45,58      R$9.070,42           0.154%  \n",
      "Cama box                           R$697,47    R$138.796,53           2.364%  \n",
      "Celular Plus X42                 R$2.700,68    R$534.734,64           9.107%  \n",
      "Bola de basquete                    R$66,05     R$13.011,85           0.222%  \n",
      "Pandeiro                            R$85,71     R$16.884,87           0.288%  \n",
      "Guarda roupas                      R$651,41    R$128.327,77           2.186%  \n",
      "Bicicleta                          R$656,37    R$128.648,52           2.191%  \n",
      "Iniciando em programação            R$65,81     R$12.832,95           0.219%  \n",
      "Smart TV                         R$2.015,43    R$386.962,56           6.591%  \n",
      "Geladeira                        R$2.687,17    R$513.249,47           8.741%  \n",
      "Faqueiro                            R$60,39     R$11.413,71           0.194%  \n",
      "Lava louças                      R$1.696,91    R$320.715,99           5.462%  \n",
      "Kit banquetas                      R$377,90     R$71.045,20           1.210%  \n",
      "Violão                             R$417,72     R$78.531,36           1.338%  \n",
      "Impressora                         R$398,77     R$74.968,76           1.277%  \n",
      "Fogão                              R$933,13    R$174.495,31           2.972%  \n",
      "Copo térmico                        R$60,59     R$11.330,33           0.193%  \n",
      "TV Led UHD 4K                    R$3.083,70    R$576.651,90           9.821%  \n",
      "Corda de pular                      R$21,99      R$4.090,14           0.070%  \n",
      "Mesa de jantar                     R$337,41     R$62.420,85           1.063%  \n",
      "Bola de vôlei                       R$65,94     R$12.132,96           0.207%  \n",
      "Sofá retrátil                      R$903,14    R$164.371,48           2.799%  \n",
      "Dashboards com Power BI             R$47,28      R$8.557,68           0.146%  \n",
      "Cadeira de escritório              R$509,02     R$92.132,62           1.569%  \n",
      "Xadrez de madeira                   R$38,14      R$6.865,20           0.117%  \n",
      "Cubo mágico 8x8                     R$20,21      R$3.637,80           0.062%  \n",
      "Tablet ABXY                      R$1.631,38    R$292.017,02           4.973%  \n",
      "Lavadora de roupas               R$1.836,89    R$323.292,64           5.506%  \n",
      "Jogo de tabuleiro                  R$247,25     R$43.268,75           0.737%  \n",
      "Mesa de centro                     R$227,37     R$39.789,75           0.678%  \n",
      "Dinossauro Rex                      R$23,72      R$4.151,00           0.071%  \n",
      "Boneca bebê                         R$65,46     R$11.455,50           0.195%  \n",
      "Fone de ouvido                     R$126,56     R$22.021,44           0.375%  \n",
      "Smartwatch                         R$232,01     R$39.905,72           0.680%  \n",
      "Panela de pressão                  R$100,23     R$17.239,56           0.294%  \n",
      "Jogo de copos                       R$44,05      R$7.444,45           0.127%  \n",
      "Poltrona                           R$323,78     R$54.395,04           0.926%  \n",
      "Assistente virtual                 R$275,19     R$45.956,73           0.783%  \n",
      "Ciência de dados com python         R$72,58     R$12.048,28           0.205%  \n",
      "Guitarra                         R$1.045,70    R$172.540,50           2.939%  \n",
      "Mochila                            R$131,42     R$21.421,46           0.365%  \n",
      "Headset                            R$191,97     R$30.331,26           0.517%  \n",
      "Celular ABXY                     R$1.341,07    R$210.547,99           3.586%  \n"
     ]
    }
   ],
   "source": [
    "vendas_totais = faturamento_produto.sum()\n",
    "porcentagem_produto_faturamento = ( faturamento_produto / vendas_totais )*100\n",
    "\n",
    "tabela_faturamento = pd.DataFrame({\n",
    "    \"Produto\": produto_counts.index,\n",
    "    \"Quantidade Vendida\" : produto_counts.values,\n",
    "    \"Preço Médio(R$)\": preco_medio_produto.values,\n",
    "    \"Faturamento(R$)\" : faturamento_produto.values,\n",
    "    \"% do Faturamento\" : porcentagem_produto_faturamento.round(3)\n",
    "})\n",
    "\n",
    "tabela_faturamento = tabela_faturamento.sort_values(by = \"Quantidade Vendida\", ascending = False)\n",
    "\n",
    "tabela_faturamento[\"Preço Médio(R$)\"]= tabela_faturamento[\"Preço Médio(R$)\"].apply(\n",
    "    lambda x:f\"R${x:,.2f}\".replace(\",\",\"x\").replace(\".\",\",\").replace(\"x\", \".\")\n",
    ")\n",
    "\n",
    "tabela_faturamento[\"Faturamento(R$)\"]= tabela_faturamento[\"Faturamento(R$)\"].apply(\n",
    "    lambda x:f\"R${x:,.2f}\".replace(\",\",\"x\").replace(\".\",\",\").replace(\"x\", \".\")\n",
    ")\n",
    "\n",
    "tabela_faturamento[\"% do Faturamento\"] = tabela_faturamento[\"% do Faturamento\"].apply(lambda x: f\"{x:,.3f}%\")\n",
    "\n",
    "print(tabela_faturamento)"
   ]
  },
  {
   "cell_type": "code",
   "execution_count": 30,
   "metadata": {
    "colab": {
     "base_uri": "https://localhost:8080/",
     "height": 263
    },
    "id": "zzycq2I20X2t",
    "outputId": "3d46f683-c6b0-4dc2-f338-b2f4235212dd"
   },
   "outputs": [
    {
     "data": {
      "image/png": "[encoded data removed]",
      "text/plain": [
       "<Figure size 2000x1000 with 2 Axes>"
      ]
     },
     "metadata": {},
     "output_type": "display_data"
    }
   ],
   "source": [
    "tabela_faturamento [\"Faturamento(R$)\"] = tabela_faturamento[\"Faturamento(R$)\"].apply(lambda x: float (x.replace(\"R$\", \"\").replace(\".\" , \"\").replace(\",\", \".\")))\n",
    "\n",
    "produto_top10 = tabela_faturamento.sort_values(by = \"Quantidade Vendida\", ascending= False).head(10)\n",
    "\n",
    "fig,ax1 = plt.subplots(figsize = (20, 10))\n",
    "\n",
    "ax1.bar(produto_top10[\"Produto\"], produto_top10[\"Quantidade Vendida\"], color = \"blue\", label = \"Quantidade Vendida\")\n",
    "ax1.set_ylabel(\"Quantidade Vendida\", color = \"skyblue\")\n",
    "ax1.tick_params(axis = \"y\", labelcolor = \"blue\")\n",
    "\n",
    "\n",
    "ax2 = ax1.twinx()\n",
    "ax2.plot(produto_top10[\"Produto\"], produto_top10[\"Faturamento(R$)\"], color = \"darkblue\", marker = \"o\", label = \"faturamento_produto\")\n",
    "ax2.set_ylabel(\"Faturamento(R$)\", color = \"darkblue\")\n",
    "ax2.tick_params(axis = \"y\", labelcolor =\"darkblue\")\n",
    "\n",
    "plt.title(\"Top 10 Produtos mais vendidos: Quantidade vs Faturamento\")\n",
    "plt.xticks(rotation = 30, ha =\"right\", fontsize = 12)\n",
    "fig.tight_layout()\n",
    "\n",
    "fig.subplots_adjust(bottom =0.25)\n",
    "\n",
    "lines_1, labels_1 = ax1.get_legend_handles_labels()\n",
    "lines_2, labels_2 = ax2.get_legend_handles_labels()\n",
    "plt.legend(lines_1 + lines_2, labels_1 + labels_2, loc= \"upper left\")\n",
    "\n",
    "plt.show()"
   ]
  },
  {
   "cell_type": "code",
   "execution_count": 31,
   "metadata": {
    "colab": {
     "base_uri": "https://localhost:8080/"
    },
    "id": "bBPHaw1Ynn64",
    "outputId": "911089e2-138d-4702-f501-9b2284866c66"
   },
   "outputs": [
    {
     "name": "stdout",
     "output_type": "stream",
     "text": [
      "\n",
      "--- Tabela da LOJA 1---\n",
      "\n",
      ">> Mais Vendidos:\n",
      "           Produto  Quantidade_Vendida Preço_Médio  Faturamento\n",
      "     TV Led UHD 4K                  60  R$3.158,90 R$189.534,28\n",
      "       Micro-ondas                  60    R$772,48  R$46.348,89\n",
      "     Guarda roupas                  60    R$654,71  R$39.282,78\n",
      "Secadora de roupas                  58  R$1.357,75  R$78.749,73\n",
      "  Blocos de montar                  56     R$44,42   R$2.487,74\n",
      "\n",
      ">> Menos Vendidos\n",
      "          Produto  Quantidade_Vendida Preço_Médio Faturamento\n",
      "          Headset                  33    R$191,14  R$6.307,71\n",
      "     Celular ABXY                  33  R$1.319,23 R$43.534,47\n",
      "Panela de pressão                  35    R$100,16  R$3.505,71\n",
      "         Pandeiro                  36     R$82,92  R$2.985,19\n",
      "          Mochila                  39    R$132,22  R$5.156,50\n",
      "\n",
      "--- Tabela da LOJA 2---\n",
      "\n",
      ">> Mais Vendidos:\n",
      "                 Produto  Quantidade_Vendida Preço_Médio Faturamento\n",
      "Iniciando em programação                  65     R$64,15  R$4.169,96\n",
      "             Micro-ondas                  62    R$778,33 R$48.256,37\n",
      "                 Bateria                  61  R$1.009,29 R$61.566,87\n",
      "                  Violão                  58    R$428,69 R$24.864,13\n",
      "                Pandeiro                  58     R$85,64  R$4.967,00\n",
      "\n",
      ">> Menos Vendidos\n",
      "          Produto  Quantidade_Vendida Preço_Médio Faturamento\n",
      "Jogo de tabuleiro                  32    R$242,17  R$7.749,58\n",
      "       Impressora                  34    R$407,26 R$13.846,69\n",
      "   Mesa de jantar                  34    R$338,71 R$11.516,31\n",
      "         Poltrona                  35    R$320,51 R$11.218,00\n",
      "   Fone de ouvido                  37    R$128,63  R$4.759,28\n",
      "\n",
      "--- Tabela da LOJA 3---\n",
      "\n",
      ">> Mais Vendidos:\n",
      "        Produto  Quantidade_Vendida Preço_Médio Faturamento\n",
      "  Kit banquetas                  57    R$390,63 R$22.265,96\n",
      " Mesa de jantar                  56    R$341,10 R$19.101,40\n",
      "      Cama king                  56    R$924,64 R$51.779,90\n",
      "         Cômoda                  55    R$372,49 R$20.487,18\n",
      "Jogo de panelas                  55    R$210,82 R$11.595,04\n",
      "\n",
      ">> Menos Vendidos\n",
      "         Produto  Quantidade_Vendida Preço_Médio Faturamento\n",
      "Blocos de montar                  35     R$47,14  R$1.649,81\n",
      "         Mochila                  36    R$131,38  R$4.729,54\n",
      "     Micro-ondas                  36    R$709,40 R$25.538,25\n",
      "   Jogo de copos                  36     R$44,84  R$1.614,20\n",
      "        Guitarra                  38  R$1.047,30 R$39.797,29\n",
      "\n",
      "--- Tabela da LOJA 4---\n",
      "\n",
      ">> Mais Vendidos:\n",
      "                 Produto  Quantidade_Vendida Preço_Médio Faturamento\n",
      "                Cama box                  62    R$708,53 R$43.928,57\n",
      "                Faqueiro                  59     R$59,87  R$3.532,16\n",
      "               Cama king                  56    R$894,16 R$50.073,16\n",
      " Dashboards com Power BI                  56     R$47,40  R$2.654,28\n",
      "Carrinho controle remoto                  55     R$97,31  R$5.352,22\n",
      "\n",
      ">> Menos Vendidos\n",
      "           Produto  Quantidade_Vendida Preço_Médio  Faturamento\n",
      "          Guitarra                  33  R$1.043,35  R$34.430,67\n",
      "     Guarda roupas                  34    R$643,98  R$21.895,36\n",
      "            Violão                  37    R$405,67  R$15.009,67\n",
      "Lavadora de roupas                  38  R$1.840,83  R$69.951,68\n",
      "         Geladeira                  38  R$2.641,12 R$100.362,59\n"
     ]
    }
   ],
   "source": [
    "tabelas_por_loja =(\n",
    "    lojas_juntas\n",
    "    .groupby([\"loja\", \"Produto\"])\n",
    "    .agg(\n",
    "        Quantidade_Vendida = (\"Produto\", \"count\"),\n",
    "        Preço_Médio =(\"Preço\", \"mean\"),\n",
    "        Faturamento = (\"Preço\", \"sum\")\n",
    "    )\n",
    "    .reset_index()\n",
    ")\n",
    "\n",
    "tabelas_por_loja[\"Preço_Médio\"] = tabelas_por_loja[\"Preço_Médio\"].apply(\n",
    "    lambda x: f\"R${x:,.2f}\".replace(\",\", \"x\").replace(\".\", \",\").replace(\"x\", \".\")\n",
    ")\n",
    "\n",
    "tabelas_por_loja[\"Faturamento\"] = tabelas_por_loja[\"Faturamento\"]. apply(\n",
    "    lambda x: f\"R${x:,.2f}\".replace(\",\", \"x\").replace(\".\", \",\").replace(\"x\", \".\")\n",
    ")\n",
    "\n",
    "\n",
    "lojas_disponiveis = tabelas_por_loja[\"loja\"].unique()\n",
    "\n",
    "for loja in lojas_disponiveis:\n",
    "  dados_loja = tabelas_por_loja[tabelas_por_loja[\"loja\"] == loja]\n",
    "\n",
    "  top5 = dados_loja.sort_values(by = \"Quantidade_Vendida\", ascending = False).head(5)\n",
    "  top5[\"Categoria\"] = \"Mais Vendidos\"\n",
    "\n",
    "  bottom_5 = dados_loja.sort_values(by = \"Quantidade_Vendida\", ascending = True).head(5)\n",
    "  bottom_5[\"Categoria\"] = \"Menos Vendidos\"\n",
    "\n",
    "\n",
    "  print(f\"\\n--- Tabela da {loja.upper()}---\\n\")\n",
    "\n",
    "  print(\">> Mais Vendidos:\" )\n",
    "  print(top5[[\"Produto\", \"Quantidade_Vendida\", \"Preço_Médio\", \"Faturamento\"]].to_string(index = False))\n",
    "\n",
    "\n",
    "  print(\"\\n>> Menos Vendidos\")\n",
    "  print(bottom_5[[\"Produto\", \"Quantidade_Vendida\", \"Preço_Médio\", \"Faturamento\"]].to_string(index = False))\n"
   ]
  },
  {
   "cell_type": "markdown",
   "metadata": {
    "id": "Fl0cGi3bZKqU"
   },
   "source": [
    "# 5. Frete Médio por Loja\n"
   ]
  },
  {
   "cell_type": "code",
   "execution_count": 32,
   "metadata": {
    "colab": {
     "base_uri": "https://localhost:8080/"
    },
    "id": "S2JeaCykZNy9",
    "outputId": "26586533-535b-4e3c-bf92-111836ce18ca"
   },
   "outputs": [
    {
     "name": "stdout",
     "output_type": "stream",
     "text": [
      "Total gasto com frete do grupo(4 lojas): R$312.930,66\n"
     ]
    }
   ],
   "source": [
    "#Cálculo do gastos com frete\n",
    "frete_total = lojas_juntas[\"Frete\"].sum()\n",
    "print(f\"Total gasto com frete do grupo(4 lojas): R${frete_total:,.2f}\".replace(\",\", \"x\"). replace(\".\", \",\").replace(\"x\", \".\"))"
   ]
  },
  {
   "cell_type": "code",
   "execution_count": 33,
   "metadata": {
    "colab": {
     "base_uri": "https://localhost:8080/",
     "height": 241
    },
    "id": "0tSdCie9ZQlt",
    "outputId": "e9455511-2d9c-49a6-bc05-15a070ac4fab"
   },
   "outputs": [
    {
     "data": {
      "text/plain": [
       "loja\n",
       "loja 1    R$81.837,97\n",
       "loja 2    R$79.314,16\n",
       "loja 3    R$78.022,66\n",
       "loja 4    R$73.755,88\n",
       "Name: Frete, dtype: object"
      ]
     },
     "execution_count": 33,
     "metadata": {},
     "output_type": "execute_result"
    }
   ],
   "source": [
    "#Gastos de frete por loja\n",
    "frete_por_loja = lojas_juntas.groupby(\"loja\")[\"Frete\"].sum().round(2)\n",
    "frete_por_loja_format = frete_por_loja.apply(lambda x :f\"R${x:,.2f}\".replace(\",\", \"x\").replace(\".\", \",\").replace(\"x\",\".\"))\n",
    "frete_por_loja_format\n",
    "\n"
   ]
  },
  {
   "cell_type": "code",
   "execution_count": 34,
   "metadata": {
    "colab": {
     "base_uri": "https://localhost:8080/",
     "height": 241
    },
    "id": "zF2AdQZ1VxGC",
    "outputId": "7897293c-9fb2-4a5f-cbad-53c073720402"
   },
   "outputs": [
    {
     "data": {
      "text/plain": [
       "loja\n",
       "loja 1    R$ 34.69\n",
       "loja 2    R$ 33.62\n",
       "loja 3    R$ 33.07\n",
       "loja 4    R$ 31.28\n",
       "Name: Frete, dtype: object"
      ]
     },
     "execution_count": 34,
     "metadata": {},
     "output_type": "execute_result"
    }
   ],
   "source": [
    "frete_medio_loja =lojas_juntas.groupby(\"loja\")[\"Frete\"].mean().round(2)\n",
    "frete_medio_loja_format = frete_medio_loja.apply(lambda x: f\"R${x: ,.2f}\")\n",
    "frete_medio_loja_format"
   ]
  },
  {
   "cell_type": "code",
   "execution_count": 35,
   "metadata": {
    "colab": {
     "base_uri": "https://localhost:8080/"
    },
    "id": "jloUuR9zEjoa",
    "outputId": "c3de8c94-cc40-4e02-8b7b-19984a9ca1ec"
   },
   "outputs": [
    {
     "name": "stdout",
     "output_type": "stream",
     "text": [
      "       Valor Médio do Frete Frete Total(R$) % do Frete Total  \\\n",
      "loja                                                           \n",
      "loja 1             R$ 34.69     R$81.837,97           26.15%   \n",
      "loja 2             R$ 33.62     R$79.314,16           25.35%   \n",
      "loja 3             R$ 33.07     R$78.022,66           24.93%   \n",
      "loja 4             R$ 31.28     R$73.755,88           23.57%   \n",
      "\n",
      "       Faturamento Total(R$) % Frete / Faturamento Lucro Bruto Estimado(R$)  \n",
      "loja                                                                         \n",
      "loja 1        R$1.534.509,12                 5.33%          R$ 1.452.671,15  \n",
      "loja 2        R$1.488.459,06                 5.33%          R$ 1.409.144,90  \n",
      "loja 3        R$1.464.025,03                 5.33%          R$ 1.386.002,37  \n",
      "loja 4        R$1.384.497,58                 5.33%          R$ 1.310.741,70  \n"
     ]
    }
   ],
   "source": [
    "#calculando o faturamento(receita) sem formataçao\n",
    "receita_por_loja = lojas_juntas.groupby(\"loja\")[\"Preço\"].sum().round(2)\n",
    "\n",
    "# Quanto o gasto de cada loja implica no valor do frete do grupo\n",
    "porc_frete = ((frete_por_loja / frete_total) * 100).round(2)\n",
    "\n",
    "# porcentagem de gasto com frete rem relação ao faturamento da loja\n",
    "porc_frete_faturamento = ((frete_por_loja / receita_por_loja) * 100).round(2)\n",
    "\n",
    "lojas = frete_por_loja.index\n",
    "\n",
    "#lucro bruto estimado (faturamento - frete)\n",
    "lucro_bruto = (receita_por_loja - frete_por_loja).reindex(lojas)\n",
    "\n",
    "tabela_frete_faturamento = pd.DataFrame({\n",
    "    \"Valor Médio do Frete\": frete_medio_loja_format,\n",
    "    \"Frete Total(R$)\" : frete_por_loja,\n",
    "    \"% do Frete Total\" : porc_frete,\n",
    "    \"Faturamento Total(R$)\" : receita_por_loja,\n",
    "    \"% Frete / Faturamento\" : porc_frete_faturamento,\n",
    "    \"Lucro Bruto Estimado(R$)\" : lucro_bruto\n",
    "\n",
    "\n",
    "}).round(2)\n",
    "\n",
    "tabela_frete_faturamento[\"Frete Total(R$)\"] = tabela_frete_faturamento[ \"Frete Total(R$)\"].apply(lambda x:f\"R${x:,.2f}\".replace(\",\", \"x\").replace(\".\",\",\").replace(\"x\", \".\") )\n",
    "tabela_frete_faturamento[\"% do Frete Total\"] = tabela_frete_faturamento[\"% do Frete Total\"].apply(lambda x: f\"{x:,.2f}%\")\n",
    "tabela_frete_faturamento[\"Faturamento Total(R$)\"] = tabela_frete_faturamento[\"Faturamento Total(R$)\"].apply(lambda x:f\"R${x:,.2f}\".replace(\",\", \"x\").replace(\".\", \",\").replace(\"x\", \".\"))\n",
    "tabela_frete_faturamento[\"% Frete / Faturamento\"] = tabela_frete_faturamento[\"% Frete / Faturamento\"].apply(lambda x: f\"{x: ,.2f}%\")\n",
    "tabela_frete_faturamento[\"Lucro Bruto Estimado(R$)\"] = tabela_frete_faturamento[\"Lucro Bruto Estimado(R$)\"].apply(lambda x: f\"R${x: ,.2f}\".replace(\",\", \"x\").replace(\".\", \",\").replace(\"x\", \".\"))\n",
    "\n",
    "print(tabela_frete_faturamento)"
   ]
  },
  {
   "cell_type": "markdown",
   "metadata": {
    "id": "5Id5udTLZgzI"
   },
   "source": [
    "# 6.Dados Complementares\n",
    "\n",
    "\n"
   ]
  },
  {
   "cell_type": "code",
   "execution_count": 36,
   "metadata": {
    "colab": {
     "base_uri": "https://localhost:8080/"
    },
    "id": "KOE346IiZ3_P",
    "outputId": "addcf99c-2056-4899-b2a6-03028f6690fe"
   },
   "outputs": [
    {
     "name": "stdout",
     "output_type": "stream",
     "text": [
      "AC : 3\n",
      "AL : 41\n",
      "AM : 14\n",
      "AP : 9\n",
      "BA : 310\n",
      "CE : 151\n",
      "DF : 242\n",
      "ES : 171\n",
      "GO : 186\n",
      "MA : 62\n",
      "MG : 1102\n",
      "MS : 82\n",
      "MT : 80\n",
      "PA : 81\n",
      "PB : 46\n",
      "PE : 181\n",
      "PI : 40\n",
      "PR : 473\n",
      "RJ : 1212\n",
      "RN : 48\n",
      "RO : 19\n",
      "RR : 2\n",
      "RS : 534\n",
      "SC : 346\n",
      "SE : 28\n",
      "SP : 3943\n",
      "TO : 29\n"
     ]
    }
   ],
   "source": [
    "venda_por_estado = {}\n",
    "\n",
    "for estado in lojas_juntas[\"Local da compra\"]:\n",
    "  if estado in venda_por_estado:\n",
    "    venda_por_estado[estado] += 1\n",
    "\n",
    "  else:\n",
    "    venda_por_estado[estado] = 1\n",
    "\n",
    "for estado, quantidade in sorted(venda_por_estado.items()):\n",
    "  print(f\"{estado} : {quantidade}\")\n",
    "\n",
    "\n"
   ]
  },
  {
   "cell_type": "code",
   "execution_count": 37,
   "metadata": {
    "id": "Ju-mhfmfdmU5"
   },
   "outputs": [],
   "source": [
    "sul = [\"RS\", \"SC\", \"PR\"]\n",
    "sudeste = [\"SP\", \"RJ\", \"MG\", \"ES\"]\n",
    "norte = [\"AC\", \"AP\", \"AM\", \"PA\", \"RO\", \"RR\", \"TO\"]\n",
    "nordeste = [\"AL\", \"BA\", \"CE\", \"MA\", \"PB\", \"PE\", \"PI\", \"RN\", \"SE\"]\n",
    "centro_oeste = [\"DF\", \"GO\", \"MT\", \"MS\"]"
   ]
  },
  {
   "cell_type": "code",
   "execution_count": 38,
   "metadata": {
    "colab": {
     "base_uri": "https://localhost:8080/"
    },
    "id": "SHc5yw4Zffhc",
    "outputId": "ffaabb3f-8155-4b3d-fed8-de1cfb11b105"
   },
   "outputs": [
    {
     "name": "stdout",
     "output_type": "stream",
     "text": [
      "Sul: 1353\n",
      "Sudeste: 6428\n",
      "Norte: 157\n",
      "Nordeste: 907\n",
      "Centro-Oeste: 590\n"
     ]
    }
   ],
   "source": [
    "vendas_por_regiao = {\"Sul\": 0, \"Sudeste\":0, \"Norte\": 0, \"Nordeste\": 0, \"Centro-Oeste\": 0}\n",
    "\n",
    "for estado in lojas_juntas[\"Local da compra\"]:\n",
    "\n",
    "  if estado in sul:\n",
    "    vendas_por_regiao[\"Sul\"] += 1\n",
    "\n",
    "  elif estado in sudeste:\n",
    "    vendas_por_regiao[\"Sudeste\"] += 1\n",
    "\n",
    "  elif estado in norte:\n",
    "    vendas_por_regiao[\"Norte\"] += 1\n",
    "\n",
    "  elif estado in nordeste:\n",
    "    vendas_por_regiao[\"Nordeste\"] += 1\n",
    "\n",
    "  elif estado in centro_oeste:\n",
    "    vendas_por_regiao[\"Centro-Oeste\"] +=1\n",
    "\n",
    "for regiao, quantidade in vendas_por_regiao.items():\n",
    "  print(f\"{regiao}: {quantidade}\")\n"
   ]
  },
  {
   "cell_type": "code",
   "execution_count": 39,
   "metadata": {
    "colab": {
     "base_uri": "https://localhost:8080/"
    },
    "id": "gR7vXuJci0sC",
    "outputId": "24a4a299-edd0-43c0-8648-b8a40487f142"
   },
   "outputs": [
    {
     "name": "stdout",
     "output_type": "stream",
     "text": [
      "        Sul  Sudeste  Norte  Nordeste  Centro-Oeste\n",
      "loja 1  378     1585     46       206           144\n",
      "loja 2  316     1613     32       230           168\n",
      "loja 3  325     1620     44       230           140\n",
      "loja 4  334     1610     35       241           138\n"
     ]
    }
   ],
   "source": [
    "venda_loja_regiao = {}\n",
    "\n",
    "for _, row in lojas_juntas.iterrows():\n",
    "  loja = row[\"loja\"]\n",
    "  estado = row[\"Local da compra\"]\n",
    "\n",
    "  if estado in sul:\n",
    "    regiao = \"Sul\"\n",
    "\n",
    "  elif estado in sudeste:\n",
    "    regiao = \"Sudeste\"\n",
    "\n",
    "  elif estado in norte:\n",
    "    regiao = \"Norte\"\n",
    "\n",
    "  elif estado in nordeste:\n",
    "    regiao = \"Nordeste\"\n",
    "\n",
    "  elif estado in centro_oeste:\n",
    "    regiao = \"Centro-Oeste\"\n",
    "\n",
    "  else:\n",
    "    continue\n",
    "\n",
    "  if loja not in venda_loja_regiao:\n",
    "    venda_loja_regiao[loja] = {\"Sul\": 0, \"Sudeste\":0, \"Norte\": 0, \"Nordeste\": 0, \"Centro-Oeste\": 0}\n",
    "\n",
    "  venda_loja_regiao[loja][regiao]  += 1\n",
    "\n",
    "tabela_vendas_regiao = pd.DataFrame(venda_loja_regiao).T.fillna(0).astype(int)\n",
    "print(tabela_vendas_regiao)"
   ]
  }
 ],
 "metadata": {
  "colab": {
   "provenance": [],
   "toc_visible": true
  },
  "kernelspec": {
   "display_name": "Python 3 (ipykernel)",
   "language": "python",
   "name": "python3"
  },
  "language_info": {
   "codemirror_mode": {
    "name": "ipython",
    "version": 3
   },
   "file_extension": ".py",
   "mimetype": "text/x-python",
   "name": "python",
   "nbconvert_exporter": "python",
   "pygments_lexer": "ipython3",
   "version": "3.12.3"
  }
 },
 "nbformat": 4,
 "nbformat_minor": 4
}
